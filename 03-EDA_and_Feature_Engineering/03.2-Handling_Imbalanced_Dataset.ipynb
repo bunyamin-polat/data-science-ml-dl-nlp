{
 "cells": [
  {
   "cell_type": "markdown",
   "id": "90a79a51",
   "metadata": {},
   "source": [
    "# Handling Imbalanced Datasets\n",
    "\n",
    "In real-world scenarios, datasets often exhibit class imbalance, where one class significantly outnumbers the other(s). This imbalance can lead to biased models that perform poorly on the minority class. Here are some common techniques to handle imbalanced datasets:\n",
    "\n",
    "1. **Resampling Techniques**:\n",
    "   - **Oversampling**: Increase the number of instances in the minority class by duplicating existing samples or generating new ones (e.g., SMOTE).\n",
    "   - **Undersampling**: Reduce the number of instances in the majority class to balance the class distribution.\n",
    "\n",
    "2. **Using Different Evaluation Metrics**: Instead of accuracy, use metrics like precision, recall, F1-score, or AUC-ROC that provide better insights into model performance on imbalanced datasets.\n",
    "\n",
    "3. **Cost-sensitive Training**: Modify the learning algorithm to take misclassification costs into account, giving more weight to the minority class.\n",
    "\n",
    "4. **Ensemble Methods**: Use techniques like bagging and boosting that can help improve the performance on imbalanced datasets by combining multiple models.\n",
    "\n",
    "5. **Anomaly Detection Techniques**: Treat the minority class as anomalies and use anomaly detection algorithms to identify them.\n",
    "\n",
    "6. **Data Augmentation**: For image or text data, apply transformations to create new samples for the minority class.\n",
    "\n",
    "7. **Synthetic Data Generation**: Use techniques like GANs (Generative Adversarial Networks) to generate synthetic samples for the minority class."
   ]
  },
  {
   "cell_type": "code",
   "execution_count": 2,
   "id": "ef574bcf",
   "metadata": {},
   "outputs": [],
   "source": [
    "import pandas as pd\n",
    "import numpy as np"
   ]
  },
  {
   "cell_type": "code",
   "execution_count": 3,
   "id": "b830eb2d",
   "metadata": {},
   "outputs": [],
   "source": [
    "# Set random seed for reproducibility\n",
    "np.random.seed(0)\n",
    "\n",
    "# Create a sample DataFrame with two classes\n",
    "n_samples = 1000\n",
    "n_class_0 = int(n_samples * 0.9)  # 90% of samples in class 0\n",
    "n_class_1 = n_samples - n_class_0  # 10% of samples in class 1"
   ]
  },
  {
   "cell_type": "code",
   "execution_count": 4,
   "id": "8440c0a6",
   "metadata": {},
   "outputs": [
    {
     "data": {
      "text/plain": [
       "(900, 100)"
      ]
     },
     "execution_count": 4,
     "metadata": {},
     "output_type": "execute_result"
    }
   ],
   "source": [
    "n_class_0, n_class_1"
   ]
  },
  {
   "cell_type": "code",
   "execution_count": 5,
   "id": "86efe76e",
   "metadata": {},
   "outputs": [],
   "source": [
    "# Create the DataFrame\n",
    "class_0 = pd.DataFrame({\n",
    "    'feature_1': np.random.normal(loc=0, scale=1, size=n_class_0),\n",
    "    'feature_2': np.random.normal(loc=0, scale=1, size=n_class_0),\n",
    "    'target': [0] * n_class_0\n",
    "})\n",
    "\n",
    "class_1 = pd.DataFrame({\n",
    "    'feature_1': np.random.normal(loc=2, scale=1, size=n_class_1),\n",
    "    'feature_2': np.random.normal(loc=2, scale=1, size=n_class_1),\n",
    "    'target': [1] * n_class_1\n",
    "})"
   ]
  },
  {
   "cell_type": "code",
   "execution_count": 6,
   "id": "d5a1cfaf",
   "metadata": {},
   "outputs": [
    {
     "data": {
      "text/html": [
       "<div>\n",
       "<style scoped>\n",
       "    .dataframe tbody tr th:only-of-type {\n",
       "        vertical-align: middle;\n",
       "    }\n",
       "\n",
       "    .dataframe tbody tr th {\n",
       "        vertical-align: top;\n",
       "    }\n",
       "\n",
       "    .dataframe thead th {\n",
       "        text-align: right;\n",
       "    }\n",
       "</style>\n",
       "<table border=\"1\" class=\"dataframe\">\n",
       "  <thead>\n",
       "    <tr style=\"text-align: right;\">\n",
       "      <th></th>\n",
       "      <th>feature_1</th>\n",
       "      <th>feature_2</th>\n",
       "      <th>target</th>\n",
       "    </tr>\n",
       "  </thead>\n",
       "  <tbody>\n",
       "    <tr>\n",
       "      <th>0</th>\n",
       "      <td>1.764052</td>\n",
       "      <td>-1.461733</td>\n",
       "      <td>0</td>\n",
       "    </tr>\n",
       "    <tr>\n",
       "      <th>1</th>\n",
       "      <td>0.400157</td>\n",
       "      <td>-0.683440</td>\n",
       "      <td>0</td>\n",
       "    </tr>\n",
       "    <tr>\n",
       "      <th>2</th>\n",
       "      <td>0.978738</td>\n",
       "      <td>0.367545</td>\n",
       "      <td>0</td>\n",
       "    </tr>\n",
       "    <tr>\n",
       "      <th>3</th>\n",
       "      <td>2.240893</td>\n",
       "      <td>0.190312</td>\n",
       "      <td>0</td>\n",
       "    </tr>\n",
       "    <tr>\n",
       "      <th>4</th>\n",
       "      <td>1.867558</td>\n",
       "      <td>-0.851729</td>\n",
       "      <td>0</td>\n",
       "    </tr>\n",
       "    <tr>\n",
       "      <th>...</th>\n",
       "      <td>...</td>\n",
       "      <td>...</td>\n",
       "      <td>...</td>\n",
       "    </tr>\n",
       "    <tr>\n",
       "      <th>995</th>\n",
       "      <td>1.744529</td>\n",
       "      <td>2.097751</td>\n",
       "      <td>1</td>\n",
       "    </tr>\n",
       "    <tr>\n",
       "      <th>996</th>\n",
       "      <td>3.685792</td>\n",
       "      <td>3.401523</td>\n",
       "      <td>1</td>\n",
       "    </tr>\n",
       "    <tr>\n",
       "      <th>997</th>\n",
       "      <td>0.351954</td>\n",
       "      <td>2.158434</td>\n",
       "      <td>1</td>\n",
       "    </tr>\n",
       "    <tr>\n",
       "      <th>998</th>\n",
       "      <td>2.298714</td>\n",
       "      <td>0.858099</td>\n",
       "      <td>1</td>\n",
       "    </tr>\n",
       "    <tr>\n",
       "      <th>999</th>\n",
       "      <td>2.910646</td>\n",
       "      <td>0.689030</td>\n",
       "      <td>1</td>\n",
       "    </tr>\n",
       "  </tbody>\n",
       "</table>\n",
       "<p>1000 rows × 3 columns</p>\n",
       "</div>"
      ],
      "text/plain": [
       "     feature_1  feature_2  target\n",
       "0     1.764052  -1.461733       0\n",
       "1     0.400157  -0.683440       0\n",
       "2     0.978738   0.367545       0\n",
       "3     2.240893   0.190312       0\n",
       "4     1.867558  -0.851729       0\n",
       "..         ...        ...     ...\n",
       "995   1.744529   2.097751       1\n",
       "996   3.685792   3.401523       1\n",
       "997   0.351954   2.158434       1\n",
       "998   2.298714   0.858099       1\n",
       "999   2.910646   0.689030       1\n",
       "\n",
       "[1000 rows x 3 columns]"
      ]
     },
     "execution_count": 6,
     "metadata": {},
     "output_type": "execute_result"
    }
   ],
   "source": [
    "df = pd.concat([class_0, class_1]).reset_index(drop=True)\n",
    "df"
   ]
  },
  {
   "cell_type": "code",
   "execution_count": 7,
   "id": "65eb321f",
   "metadata": {},
   "outputs": [
    {
     "data": {
      "text/plain": [
       "target\n",
       "0    900\n",
       "1    100\n",
       "Name: count, dtype: int64"
      ]
     },
     "execution_count": 7,
     "metadata": {},
     "output_type": "execute_result"
    }
   ],
   "source": [
    "df['target'].value_counts()"
   ]
  },
  {
   "cell_type": "markdown",
   "id": "85c90dc3",
   "metadata": {},
   "source": [
    "### Oversampling\n",
    "\n",
    "Oversampling involves increasing the number of instances in the minority class to balance the class distribution. This can be done by duplicating existing samples. \n",
    "\n",
    "Repeating samples can lead to overfitting, so it's often better to use techniques like SMOTE (Synthetic Minority Over-sampling Technique) that generate new synthetic samples."
   ]
  },
  {
   "cell_type": "code",
   "execution_count": 8,
   "id": "54fa58e4",
   "metadata": {},
   "outputs": [],
   "source": [
    "df_minority = df[df['target'] == 1] # Minority class\n",
    "df_majority = df[df['target'] == 0] # Majority class"
   ]
  },
  {
   "cell_type": "code",
   "execution_count": 9,
   "id": "e46cf891",
   "metadata": {},
   "outputs": [
    {
     "data": {
      "text/plain": [
       "(900, 3)"
      ]
     },
     "execution_count": 9,
     "metadata": {},
     "output_type": "execute_result"
    }
   ],
   "source": [
    "from sklearn.utils import resample\n",
    "\n",
    "# Upsample minority class\n",
    "df_minority_upsampled = resample(df_minority,\n",
    "                                   replace=True,     # sample with replacement\n",
    "                                   n_samples=n_class_0,    # to match majority class\n",
    "                                   random_state=42) # reproducible results\n",
    "\n",
    "df_minority_upsampled.shape"
   ]
  },
  {
   "cell_type": "code",
   "execution_count": 10,
   "id": "a8411cc8",
   "metadata": {},
   "outputs": [
    {
     "data": {
      "text/plain": [
       "target\n",
       "0    900\n",
       "1    900\n",
       "Name: count, dtype: int64"
      ]
     },
     "execution_count": 10,
     "metadata": {},
     "output_type": "execute_result"
    }
   ],
   "source": [
    "# Combine majority class with upsampled minority class\n",
    "df_upsampled = pd.concat([df_majority, df_minority_upsampled])\n",
    "df_upsampled['target'].value_counts()"
   ]
  },
  {
   "cell_type": "code",
   "execution_count": 11,
   "id": "249d3b65",
   "metadata": {},
   "outputs": [
    {
     "data": {
      "text/html": [
       "<div>\n",
       "<style scoped>\n",
       "    .dataframe tbody tr th:only-of-type {\n",
       "        vertical-align: middle;\n",
       "    }\n",
       "\n",
       "    .dataframe tbody tr th {\n",
       "        vertical-align: top;\n",
       "    }\n",
       "\n",
       "    .dataframe thead th {\n",
       "        text-align: right;\n",
       "    }\n",
       "</style>\n",
       "<table border=\"1\" class=\"dataframe\">\n",
       "  <thead>\n",
       "    <tr style=\"text-align: right;\">\n",
       "      <th></th>\n",
       "      <th>feature_1</th>\n",
       "      <th>feature_2</th>\n",
       "      <th>target</th>\n",
       "    </tr>\n",
       "  </thead>\n",
       "  <tbody>\n",
       "    <tr>\n",
       "      <th>0</th>\n",
       "      <td>1.764052</td>\n",
       "      <td>-1.461733</td>\n",
       "      <td>0</td>\n",
       "    </tr>\n",
       "    <tr>\n",
       "      <th>1</th>\n",
       "      <td>0.400157</td>\n",
       "      <td>-0.683440</td>\n",
       "      <td>0</td>\n",
       "    </tr>\n",
       "    <tr>\n",
       "      <th>2</th>\n",
       "      <td>0.978738</td>\n",
       "      <td>0.367545</td>\n",
       "      <td>0</td>\n",
       "    </tr>\n",
       "    <tr>\n",
       "      <th>3</th>\n",
       "      <td>2.240893</td>\n",
       "      <td>0.190312</td>\n",
       "      <td>0</td>\n",
       "    </tr>\n",
       "    <tr>\n",
       "      <th>4</th>\n",
       "      <td>1.867558</td>\n",
       "      <td>-0.851729</td>\n",
       "      <td>0</td>\n",
       "    </tr>\n",
       "    <tr>\n",
       "      <th>...</th>\n",
       "      <td>...</td>\n",
       "      <td>...</td>\n",
       "      <td>...</td>\n",
       "    </tr>\n",
       "    <tr>\n",
       "      <th>952</th>\n",
       "      <td>2.447024</td>\n",
       "      <td>-0.178932</td>\n",
       "      <td>1</td>\n",
       "    </tr>\n",
       "    <tr>\n",
       "      <th>965</th>\n",
       "      <td>1.708959</td>\n",
       "      <td>0.436095</td>\n",
       "      <td>1</td>\n",
       "    </tr>\n",
       "    <tr>\n",
       "      <th>976</th>\n",
       "      <td>1.984221</td>\n",
       "      <td>2.775023</td>\n",
       "      <td>1</td>\n",
       "    </tr>\n",
       "    <tr>\n",
       "      <th>942</th>\n",
       "      <td>1.160871</td>\n",
       "      <td>2.456153</td>\n",
       "      <td>1</td>\n",
       "    </tr>\n",
       "    <tr>\n",
       "      <th>974</th>\n",
       "      <td>2.275667</td>\n",
       "      <td>1.666209</td>\n",
       "      <td>1</td>\n",
       "    </tr>\n",
       "  </tbody>\n",
       "</table>\n",
       "<p>1800 rows × 3 columns</p>\n",
       "</div>"
      ],
      "text/plain": [
       "     feature_1  feature_2  target\n",
       "0     1.764052  -1.461733       0\n",
       "1     0.400157  -0.683440       0\n",
       "2     0.978738   0.367545       0\n",
       "3     2.240893   0.190312       0\n",
       "4     1.867558  -0.851729       0\n",
       "..         ...        ...     ...\n",
       "952   2.447024  -0.178932       1\n",
       "965   1.708959   0.436095       1\n",
       "976   1.984221   2.775023       1\n",
       "942   1.160871   2.456153       1\n",
       "974   2.275667   1.666209       1\n",
       "\n",
       "[1800 rows x 3 columns]"
      ]
     },
     "execution_count": 11,
     "metadata": {},
     "output_type": "execute_result"
    }
   ],
   "source": [
    "df_upsampled"
   ]
  },
  {
   "cell_type": "markdown",
   "id": "f8efa7d9",
   "metadata": {},
   "source": [
    "### Downsampling\n",
    "\n",
    "Downsampling involves reducing the number of instances in the majority class to balance the class distribution. This can be done by randomly removing samples from the majority class. \n",
    "\n",
    "The danger of downsampling is that you may lose important information from the majority class, which can lead to a less effective model."
   ]
  },
  {
   "cell_type": "code",
   "execution_count": null,
   "id": "33b77e24",
   "metadata": {},
   "outputs": [
    {
     "data": {
      "text/plain": [
       "(100, 3)"
      ]
     },
     "execution_count": 12,
     "metadata": {},
     "output_type": "execute_result"
    }
   ],
   "source": [
    "df_majority_downsampled = resample(df_majority,\n",
    "                                   replace=False,    # sample without replacement\n",
    "                                   n_samples=n_class_1,     # to match minority class\n",
    "                                   random_state=42) # reproducible results\n",
    "\n",
    "df_majority_downsampled.shape"
   ]
  },
  {
   "cell_type": "code",
   "execution_count": 13,
   "id": "66f9b70f",
   "metadata": {},
   "outputs": [
    {
     "data": {
      "text/html": [
       "<div>\n",
       "<style scoped>\n",
       "    .dataframe tbody tr th:only-of-type {\n",
       "        vertical-align: middle;\n",
       "    }\n",
       "\n",
       "    .dataframe tbody tr th {\n",
       "        vertical-align: top;\n",
       "    }\n",
       "\n",
       "    .dataframe thead th {\n",
       "        text-align: right;\n",
       "    }\n",
       "</style>\n",
       "<table border=\"1\" class=\"dataframe\">\n",
       "  <thead>\n",
       "    <tr style=\"text-align: right;\">\n",
       "      <th></th>\n",
       "      <th>feature_1</th>\n",
       "      <th>feature_2</th>\n",
       "      <th>target</th>\n",
       "    </tr>\n",
       "  </thead>\n",
       "  <tbody>\n",
       "    <tr>\n",
       "      <th>70</th>\n",
       "      <td>0.729091</td>\n",
       "      <td>-0.657926</td>\n",
       "      <td>0</td>\n",
       "    </tr>\n",
       "    <tr>\n",
       "      <th>827</th>\n",
       "      <td>2.225944</td>\n",
       "      <td>-0.256317</td>\n",
       "      <td>0</td>\n",
       "    </tr>\n",
       "    <tr>\n",
       "      <th>231</th>\n",
       "      <td>-0.493320</td>\n",
       "      <td>0.047066</td>\n",
       "      <td>0</td>\n",
       "    </tr>\n",
       "    <tr>\n",
       "      <th>588</th>\n",
       "      <td>-0.392389</td>\n",
       "      <td>2.680571</td>\n",
       "      <td>0</td>\n",
       "    </tr>\n",
       "    <tr>\n",
       "      <th>39</th>\n",
       "      <td>-0.302303</td>\n",
       "      <td>-0.531606</td>\n",
       "      <td>0</td>\n",
       "    </tr>\n",
       "    <tr>\n",
       "      <th>...</th>\n",
       "      <td>...</td>\n",
       "      <td>...</td>\n",
       "      <td>...</td>\n",
       "    </tr>\n",
       "    <tr>\n",
       "      <th>398</th>\n",
       "      <td>1.466579</td>\n",
       "      <td>0.159250</td>\n",
       "      <td>0</td>\n",
       "    </tr>\n",
       "    <tr>\n",
       "      <th>76</th>\n",
       "      <td>-0.870797</td>\n",
       "      <td>-0.406303</td>\n",
       "      <td>0</td>\n",
       "    </tr>\n",
       "    <tr>\n",
       "      <th>196</th>\n",
       "      <td>0.771791</td>\n",
       "      <td>0.731659</td>\n",
       "      <td>0</td>\n",
       "    </tr>\n",
       "    <tr>\n",
       "      <th>631</th>\n",
       "      <td>-0.117475</td>\n",
       "      <td>0.844454</td>\n",
       "      <td>0</td>\n",
       "    </tr>\n",
       "    <tr>\n",
       "      <th>751</th>\n",
       "      <td>-1.661598</td>\n",
       "      <td>-0.186709</td>\n",
       "      <td>0</td>\n",
       "    </tr>\n",
       "  </tbody>\n",
       "</table>\n",
       "<p>100 rows × 3 columns</p>\n",
       "</div>"
      ],
      "text/plain": [
       "     feature_1  feature_2  target\n",
       "70    0.729091  -0.657926       0\n",
       "827   2.225944  -0.256317       0\n",
       "231  -0.493320   0.047066       0\n",
       "588  -0.392389   2.680571       0\n",
       "39   -0.302303  -0.531606       0\n",
       "..         ...        ...     ...\n",
       "398   1.466579   0.159250       0\n",
       "76   -0.870797  -0.406303       0\n",
       "196   0.771791   0.731659       0\n",
       "631  -0.117475   0.844454       0\n",
       "751  -1.661598  -0.186709       0\n",
       "\n",
       "[100 rows x 3 columns]"
      ]
     },
     "execution_count": 13,
     "metadata": {},
     "output_type": "execute_result"
    }
   ],
   "source": [
    "df_majority_downsampled"
   ]
  },
  {
   "cell_type": "code",
   "execution_count": 14,
   "id": "34a6f67f",
   "metadata": {},
   "outputs": [
    {
     "data": {
      "text/plain": [
       "target\n",
       "0    100\n",
       "1    100\n",
       "Name: count, dtype: int64"
      ]
     },
     "execution_count": 14,
     "metadata": {},
     "output_type": "execute_result"
    }
   ],
   "source": [
    "df_downsampled = pd.concat([df_majority_downsampled, df_minority])\n",
    "df_downsampled['target'].value_counts()"
   ]
  },
  {
   "cell_type": "markdown",
   "id": "466595a6",
   "metadata": {},
   "source": [
    "## Using SMOTE for Oversampling\n",
    "\n",
    "Oversampling can be effectively performed using the SMOTE technique from the `imblearn` library. \n",
    "\n",
    "Why the above over sampling code is not recommended because it simply duplicates existing samples, which can lead to overfitting. \n",
    "\n",
    "SMOTE, on the other hand, generates new synthetic samples based on the feature space similarities between existing minority class samples."
   ]
  },
  {
   "cell_type": "code",
   "execution_count": 18,
   "id": "1033a464",
   "metadata": {},
   "outputs": [],
   "source": [
    "from sklearn.datasets import make_classification\n",
    "from imblearn.over_sampling import SMOTE"
   ]
  },
  {
   "cell_type": "code",
   "execution_count": 34,
   "id": "2ac21b9d",
   "metadata": {},
   "outputs": [],
   "source": [
    "x, y = make_classification(n_redundant=0,\n",
    "                           weights=[0.9, 0.1],\n",
    "                           n_features=2, \n",
    "                           n_clusters_per_class=1,\n",
    "                           n_samples=1000, \n",
    "                           random_state=42)"
   ]
  },
  {
   "cell_type": "code",
   "execution_count": 35,
   "id": "044ffb15",
   "metadata": {},
   "outputs": [
    {
     "data": {
      "text/html": [
       "<div>\n",
       "<style scoped>\n",
       "    .dataframe tbody tr th:only-of-type {\n",
       "        vertical-align: middle;\n",
       "    }\n",
       "\n",
       "    .dataframe tbody tr th {\n",
       "        vertical-align: top;\n",
       "    }\n",
       "\n",
       "    .dataframe thead th {\n",
       "        text-align: right;\n",
       "    }\n",
       "</style>\n",
       "<table border=\"1\" class=\"dataframe\">\n",
       "  <thead>\n",
       "    <tr style=\"text-align: right;\">\n",
       "      <th></th>\n",
       "      <th>f1</th>\n",
       "      <th>f2</th>\n",
       "      <th>target</th>\n",
       "    </tr>\n",
       "  </thead>\n",
       "  <tbody>\n",
       "    <tr>\n",
       "      <th>0</th>\n",
       "      <td>1.073546</td>\n",
       "      <td>-1.101339</td>\n",
       "      <td>0</td>\n",
       "    </tr>\n",
       "    <tr>\n",
       "      <th>1</th>\n",
       "      <td>0.755945</td>\n",
       "      <td>-1.172352</td>\n",
       "      <td>0</td>\n",
       "    </tr>\n",
       "    <tr>\n",
       "      <th>2</th>\n",
       "      <td>1.354479</td>\n",
       "      <td>-0.948528</td>\n",
       "      <td>0</td>\n",
       "    </tr>\n",
       "    <tr>\n",
       "      <th>3</th>\n",
       "      <td>3.103090</td>\n",
       "      <td>0.233485</td>\n",
       "      <td>0</td>\n",
       "    </tr>\n",
       "    <tr>\n",
       "      <th>4</th>\n",
       "      <td>1.951888</td>\n",
       "      <td>-0.270157</td>\n",
       "      <td>0</td>\n",
       "    </tr>\n",
       "  </tbody>\n",
       "</table>\n",
       "</div>"
      ],
      "text/plain": [
       "         f1        f2  target\n",
       "0  1.073546 -1.101339       0\n",
       "1  0.755945 -1.172352       0\n",
       "2  1.354479 -0.948528       0\n",
       "3  3.103090  0.233485       0\n",
       "4  1.951888 -0.270157       0"
      ]
     },
     "execution_count": 35,
     "metadata": {},
     "output_type": "execute_result"
    }
   ],
   "source": [
    "df1 = pd.DataFrame(x, columns=['f1', 'f2'])\n",
    "df2 = pd.DataFrame(y, columns=['target'])\n",
    "df = pd.concat([df1, df2], axis=1)\n",
    "df.head()"
   ]
  },
  {
   "cell_type": "code",
   "execution_count": 36,
   "id": "9dce19c5",
   "metadata": {},
   "outputs": [
    {
     "data": {
      "text/plain": [
       "target\n",
       "0    895\n",
       "1    105\n",
       "Name: count, dtype: int64"
      ]
     },
     "execution_count": 36,
     "metadata": {},
     "output_type": "execute_result"
    }
   ],
   "source": [
    "df['target'].value_counts()"
   ]
  },
  {
   "cell_type": "code",
   "execution_count": 37,
   "id": "06686a57",
   "metadata": {},
   "outputs": [
    {
     "data": {
      "image/png": "[encoded data removed]",
      "text/plain": [
       "<Figure size 640x480 with 1 Axes>"
      ]
     },
     "metadata": {},
     "output_type": "display_data"
    }
   ],
   "source": [
    "import matplotlib.pyplot as plt\n",
    "plt.scatter(df['f1'], df['f2'], c=df['target'])\n",
    "plt.xlabel('Feature 1')\n",
    "plt.ylabel('Feature 2')\n",
    "plt.title('Scatter plot of Features')\n",
    "plt.show()  "
   ]
  },
  {
   "cell_type": "code",
   "execution_count": 38,
   "id": "76459ce9",
   "metadata": {},
   "outputs": [],
   "source": [
    "oversampler = SMOTE(sampling_strategy='minority')\n",
    "X_res, y_res = oversampler.fit_resample(df[['f1', 'f2']], df['target'])"
   ]
  },
  {
   "cell_type": "code",
   "execution_count": 39,
   "id": "38883ea3",
   "metadata": {},
   "outputs": [
    {
     "data": {
      "text/plain": [
       "target\n",
       "0    895\n",
       "1    895\n",
       "Name: count, dtype: int64"
      ]
     },
     "execution_count": 39,
     "metadata": {},
     "output_type": "execute_result"
    }
   ],
   "source": [
    "oversampled_df = pd.DataFrame(X_res, columns=['f1', 'f2'])\n",
    "oversampled_df['target'] = y_res\n",
    "oversampled_df['target'].value_counts()"
   ]
  },
  {
   "cell_type": "code",
   "execution_count": 40,
   "id": "72f8fb9b",
   "metadata": {},
   "outputs": [
    {
     "data": {
      "image/png": "[encoded data removed]",
      "text/plain": [
       "<Figure size 640x480 with 1 Axes>"
      ]
     },
     "metadata": {},
     "output_type": "display_data"
    }
   ],
   "source": [
    "plt.scatter(oversampled_df['f1'], oversampled_df['f2'], c=oversampled_df['target'])\n",
    "plt.xlabel('Feature 1')\n",
    "plt.ylabel('Feature 2')\n",
    "plt.title('Scatter plot of Features')\n",
    "plt.show()  "
   ]
  },
  {
   "cell_type": "markdown",
   "id": "028daacf",
   "metadata": {},
   "source": [
    "## Handling Outliers Values\n",
    "\n",
    "Outliers can significantly affect the performance of machine learning models. Here are some common techniques to handle outliers:\n",
    "\n",
    "5 numbered techniques to handle outliers: Minimum, Maximum, Median, Q1, Q3, and IQR (Interquartile Range)."
   ]
  },
  {
   "cell_type": "code",
   "execution_count": 41,
   "id": "8b8fcacb",
   "metadata": {},
   "outputs": [],
   "source": [
    "lst_marks=[45, 32, 56, 75, 89, 54, 32, 89, 90, 87, 67, 54, 45, 98, 99, 67, 74]\n",
    "\n",
    "minimum, Q1, median, Q3, maximum = np.quantile(lst_marks,[0, 0.25, 0.50, 0.75, 1.0]) # Minimum, Q1, Median, Q3, Maximum"
   ]
  },
  {
   "cell_type": "code",
   "execution_count": 43,
   "id": "9f5f6bd5",
   "metadata": {},
   "outputs": [
    {
     "name": "stdout",
     "output_type": "stream",
     "text": [
      "Minimum: 32.0\n",
      "Q1: 54.0\n",
      "Median: 67.0\n",
      "Q3: 89.0\n",
      "Maximum: 99.0\n"
     ]
    }
   ],
   "source": [
    "print(\"Minimum:\", minimum)\n",
    "print(\"Q1:\", Q1)\n",
    "print(\"Median:\", median)\n",
    "print(\"Q3:\", Q3)\n",
    "print(\"Maximum:\", maximum)"
   ]
  },
  {
   "cell_type": "code",
   "execution_count": 44,
   "id": "b7adb4d9",
   "metadata": {},
   "outputs": [
    {
     "name": "stdout",
     "output_type": "stream",
     "text": [
      "IQR (Interquartile Range): 35.0\n"
     ]
    }
   ],
   "source": [
    "IQR = Q3 - Q1\n",
    "print(\"IQR (Interquartile Range):\", IQR)"
   ]
  },
  {
   "cell_type": "code",
   "execution_count": null,
   "id": "00d0da03",
   "metadata": {},
   "outputs": [
    {
     "name": "stdout",
     "output_type": "stream",
     "text": [
      "Lower Bound: 1.5\n",
      "Upper Bound: 141.5\n"
     ]
    }
   ],
   "source": [
    "lowr_bound = Q1 - 1.5 * IQR # Lower Bound means the value below which a data point is considered an outlier\n",
    "upr_bound = Q3 + 1.5 * IQR # Upper Bound means the value above which a data point is considered an outlier\n",
    "print(\"Lower Bound:\", lowr_bound)\n",
    "print(\"Upper Bound:\", upr_bound)"
   ]
  },
  {
   "cell_type": "code",
   "execution_count": 46,
   "id": "56c58ce4",
   "metadata": {},
   "outputs": [
    {
     "data": {
      "image/png": "[encoded data removed]",
      "text/plain": [
       "<Figure size 640x480 with 1 Axes>"
      ]
     },
     "metadata": {},
     "output_type": "display_data"
    }
   ],
   "source": [
    "import seaborn as sns\n",
    "\n",
    "sns.boxplot(lst_marks)\n",
    "plt.title('Box plot of Marks')\n",
    "plt.show()"
   ]
  },
  {
   "cell_type": "code",
   "execution_count": 47,
   "id": "0435468e",
   "metadata": {},
   "outputs": [],
   "source": [
    "lst_marks=[-100, -200, 45, 32, 56, 75, 89, 54, 32, 89, 90, 87, 67, 54, 45, 98, 99, 67, 74, 150, 170, 180]"
   ]
  },
  {
   "cell_type": "code",
   "execution_count": 51,
   "id": "32a37377",
   "metadata": {},
   "outputs": [
    {
     "data": {
      "image/png": "[encoded data removed]",
      "text/plain": [
       "<Figure size 640x480 with 1 Axes>"
      ]
     },
     "metadata": {},
     "output_type": "display_data"
    }
   ],
   "source": [
    "sns.boxplot(lst_marks)\n",
    "plt.title('Box plot of Marks')\n",
    "plt.show()"
   ]
  },
  {
   "cell_type": "code",
   "execution_count": null,
   "id": "daa975a1",
   "metadata": {},
   "outputs": [],
   "source": []
  }
 ],
 "metadata": {
  "kernelspec": {
   "display_name": "ds312",
   "language": "python",
   "name": "python3"
  },
  "language_info": {
   "codemirror_mode": {
    "name": "ipython",
    "version": 3
   },
   "file_extension": ".py",
   "mimetype": "text/x-python",
   "name": "python",
   "nbconvert_exporter": "python",
   "pygments_lexer": "ipython3",
   "version": "3.12.11"
  }
 },
 "nbformat": 4,
 "nbformat_minor": 5
}
