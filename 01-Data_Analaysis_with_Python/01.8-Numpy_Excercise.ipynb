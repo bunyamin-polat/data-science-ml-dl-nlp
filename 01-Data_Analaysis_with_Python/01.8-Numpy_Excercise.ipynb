{
 "cells": [
  {
   "cell_type": "markdown",
   "id": "c9901853",
   "metadata": {},
   "source": [
    "# Numpy Exercise"
   ]
  },
  {
   "cell_type": "markdown",
   "id": "8b433172",
   "metadata": {},
   "source": [
    "### Assignment 1: Array Creation and Manipulation\n",
    "\n",
    "1. Create a NumPy array of shape (5, 5) filled with random integers between 1 and 20. Replace all the elements in the third column with 1."
   ]
  },
  {
   "cell_type": "code",
   "execution_count": 1,
   "id": "b8b76bcd",
   "metadata": {},
   "outputs": [
    {
     "data": {
      "text/plain": [
       "array([[ 9, 18, 13,  9, 10],\n",
       "       [ 4, 12,  7, 12, 17],\n",
       "       [ 6, 15, 19,  5,  8],\n",
       "       [17,  4, 11, 12,  3],\n",
       "       [15, 13,  6,  2, 14]])"
      ]
     },
     "execution_count": 1,
     "metadata": {},
     "output_type": "execute_result"
    }
   ],
   "source": [
    "import numpy as np\n",
    "\n",
    "# Create a 5x5 array with random integers between 1 and 20\n",
    "array_5x5 = np.random.randint(1, 21, size=(5, 5))\n",
    "array_5x5"
   ]
  },
  {
   "cell_type": "code",
   "execution_count": 2,
   "id": "2bcd54cb",
   "metadata": {},
   "outputs": [
    {
     "data": {
      "text/plain": [
       "array([[ 9, 18,  1,  9, 10],\n",
       "       [ 4, 12,  1, 12, 17],\n",
       "       [ 6, 15,  1,  5,  8],\n",
       "       [17,  4,  1, 12,  3],\n",
       "       [15, 13,  1,  2, 14]])"
      ]
     },
     "execution_count": 2,
     "metadata": {},
     "output_type": "execute_result"
    }
   ],
   "source": [
    "# Replace the third column with 1\n",
    "array_5x5[:, 2] = 1\n",
    "array_5x5"
   ]
  },
  {
   "cell_type": "markdown",
   "id": "17d957f3",
   "metadata": {},
   "source": [
    "2. Create a NumPy array of shape (4, 4) with values from 1 to 16. Replace the diagonal elements with 0."
   ]
  },
  {
   "cell_type": "code",
   "execution_count": 4,
   "id": "c4e0a502",
   "metadata": {},
   "outputs": [
    {
     "data": {
      "text/plain": [
       "array([[ 1,  2,  3,  4],\n",
       "       [ 5,  6,  7,  8],\n",
       "       [ 9, 10, 11, 12],\n",
       "       [13, 14, 15, 16]])"
      ]
     },
     "execution_count": 4,
     "metadata": {},
     "output_type": "execute_result"
    }
   ],
   "source": [
    "array_4x4 = np.arange(1, 17).reshape((4, 4))\n",
    "array_4x4"
   ]
  },
  {
   "cell_type": "code",
   "execution_count": 5,
   "id": "f31ca6b9",
   "metadata": {},
   "outputs": [
    {
     "data": {
      "text/plain": [
       "array([[ 0,  2,  3,  4],\n",
       "       [ 5,  0,  7,  8],\n",
       "       [ 9, 10,  0, 12],\n",
       "       [13, 14, 15,  0]])"
      ]
     },
     "execution_count": 5,
     "metadata": {},
     "output_type": "execute_result"
    }
   ],
   "source": [
    "array_4x4[np.diag_indices(4)] = 0\n",
    "array_4x4"
   ]
  },
  {
   "cell_type": "code",
   "execution_count": 6,
   "id": "00b5f942",
   "metadata": {},
   "outputs": [
    {
     "data": {
      "text/plain": [
       "array([[ 0,  2,  3,  4],\n",
       "       [ 5,  0,  7,  8],\n",
       "       [ 9, 10,  0, 12],\n",
       "       [13, 14, 15,  0]])"
      ]
     },
     "execution_count": 6,
     "metadata": {},
     "output_type": "execute_result"
    }
   ],
   "source": [
    "np.fill_diagonal(array_4x4, 0)\n",
    "array_4x4"
   ]
  },
  {
   "cell_type": "markdown",
   "id": "cf67474d",
   "metadata": {},
   "source": [
    "### Assignment 2: Array Indexing and Slicing\n",
    "\n",
    "1. Create a NumPy array of shape (6, 6) with values from 1 to 36. Extract the sub-array consisting of the 3rd to 5th rows and 2nd to 4th columns.\n"
   ]
  },
  {
   "cell_type": "code",
   "execution_count": 8,
   "id": "d2c30230",
   "metadata": {},
   "outputs": [
    {
     "data": {
      "text/plain": [
       "array([[ 1,  2,  3,  4,  5,  6],\n",
       "       [ 7,  8,  9, 10, 11, 12],\n",
       "       [13, 14, 15, 16, 17, 18],\n",
       "       [19, 20, 21, 22, 23, 24],\n",
       "       [25, 26, 27, 28, 29, 30],\n",
       "       [31, 32, 33, 34, 35, 36]])"
      ]
     },
     "execution_count": 8,
     "metadata": {},
     "output_type": "execute_result"
    }
   ],
   "source": [
    "array_6x6 = np.arange(1, 37).reshape((6, 6))\n",
    "array_6x6"
   ]
  },
  {
   "cell_type": "code",
   "execution_count": 9,
   "id": "24ed5b66",
   "metadata": {},
   "outputs": [
    {
     "data": {
      "text/plain": [
       "array([[14, 15, 16],\n",
       "       [20, 21, 22],\n",
       "       [26, 27, 28]])"
      ]
     },
     "execution_count": 9,
     "metadata": {},
     "output_type": "execute_result"
    }
   ],
   "source": [
    "sub_array_3x3 = array_6x6[2:5, 1:4]\n",
    "sub_array_3x3"
   ]
  },
  {
   "cell_type": "markdown",
   "id": "a54174f1",
   "metadata": {},
   "source": [
    "2. Create a NumPy array of shape (5, 5) with random integers. Extract the elements on the border."
   ]
  },
  {
   "cell_type": "code",
   "execution_count": 10,
   "id": "24effc9b",
   "metadata": {},
   "outputs": [
    {
     "data": {
      "text/plain": [
       "array([[6, 5, 5, 2, 8],\n",
       "       [4, 1, 4, 2, 5],\n",
       "       [8, 4, 5, 9, 8],\n",
       "       [9, 5, 4, 4, 6],\n",
       "       [7, 1, 5, 4, 5]])"
      ]
     },
     "execution_count": 10,
     "metadata": {},
     "output_type": "execute_result"
    }
   ],
   "source": [
    "array_5x5 = np.random.randint(1, 10, (5, 5))\n",
    "array_5x5"
   ]
  },
  {
   "cell_type": "code",
   "execution_count": 12,
   "id": "9e39aad1",
   "metadata": {},
   "outputs": [
    {
     "data": {
      "text/plain": [
       "array([6, 5, 5, 2, 8, 7, 1, 5, 4, 5, 4, 8, 9, 5, 8, 6])"
      ]
     },
     "execution_count": 12,
     "metadata": {},
     "output_type": "execute_result"
    }
   ],
   "source": [
    "border_elements = np.concatenate((array_5x5[0, :], array_5x5[-1, :], array_5x5[1:-1, 0], array_5x5[1:-1, -1]))\n",
    "border_elements"
   ]
  },
  {
   "cell_type": "markdown",
   "id": "2bb42e0f",
   "metadata": {},
   "source": [
    "### Assignment 3: Array Operations\n",
    "\n",
    "1. Create two NumPy arrays of shape (3, 4) filled with random integers. Perform element-wise addition, subtraction, multiplication, and division."
   ]
  },
  {
   "cell_type": "code",
   "execution_count": 14,
   "id": "ee15be44",
   "metadata": {},
   "outputs": [
    {
     "data": {
      "text/plain": [
       "(array([[2, 9, 4, 1],\n",
       "        [5, 4, 5, 5],\n",
       "        [1, 9, 9, 1]]),\n",
       " array([[5, 5, 6, 6],\n",
       "        [2, 2, 3, 6],\n",
       "        [1, 8, 7, 7]]))"
      ]
     },
     "execution_count": 14,
     "metadata": {},
     "output_type": "execute_result"
    }
   ],
   "source": [
    "array1 = np.random.randint(1, 10, (3, 4))\n",
    "array2 = np.random.randint(1, 10, (3, 4))\n",
    "array1, array2"
   ]
  },
  {
   "cell_type": "code",
   "execution_count": 16,
   "id": "60c35eaf",
   "metadata": {},
   "outputs": [
    {
     "name": "stdout",
     "output_type": "stream",
     "text": [
      "Sum:\n",
      " [[ 7 14 10  7]\n",
      " [ 7  6  8 11]\n",
      " [ 2 17 16  8]]\n",
      "Difference:\n",
      " [[-3  4 -2 -5]\n",
      " [ 3  2  2 -1]\n",
      " [ 0  1  2 -6]]\n",
      "Product:\n",
      " [[10 45 24  6]\n",
      " [10  8 15 30]\n",
      " [ 1 72 63  7]]\n",
      "Quotient:\n",
      " [[0.4        1.8        0.66666667 0.16666667]\n",
      " [2.5        2.         1.66666667 0.83333333]\n",
      " [1.         1.125      1.28571429 0.14285714]]\n"
     ]
    }
   ],
   "source": [
    "addition = array1 + array2\n",
    "subtraction = array1 - array2\n",
    "multiplication = array1 * array2\n",
    "division = array1 / array2\n",
    "\n",
    "print(\"Sum:\\n\", addition)\n",
    "print(\"Difference:\\n\", subtraction)\n",
    "print(\"Product:\\n\", multiplication)\n",
    "print(\"Quotient:\\n\", division)"
   ]
  },
  {
   "cell_type": "markdown",
   "id": "7f37153c",
   "metadata": {},
   "source": [
    "2. Create a NumPy array of shape (4, 4) with values from 1 to 16. Compute the row-wise and column-wise sum."
   ]
  },
  {
   "cell_type": "code",
   "execution_count": 17,
   "id": "52e9c8d1",
   "metadata": {},
   "outputs": [
    {
     "data": {
      "text/plain": [
       "array([[16,  3,  1,  9],\n",
       "       [ 1,  2,  2,  7],\n",
       "       [10,  3, 14, 10],\n",
       "       [ 3,  5,  5, 11]])"
      ]
     },
     "execution_count": 17,
     "metadata": {},
     "output_type": "execute_result"
    }
   ],
   "source": [
    "array_4x4 = np.random.randint(1, 17, (4, 4))\n",
    "array_4x4"
   ]
  },
  {
   "cell_type": "code",
   "execution_count": 19,
   "id": "d9126613",
   "metadata": {},
   "outputs": [
    {
     "name": "stdout",
     "output_type": "stream",
     "text": [
      "Row-wise sum:\n",
      " [29 12 37 24]\n",
      "Column-wise sum:\n",
      " [30 13 22 37]\n"
     ]
    }
   ],
   "source": [
    "row_wise_sum = np.sum(array_4x4, axis=1)\n",
    "column_wise_sum = np.sum(array_4x4, axis=0)\n",
    "\n",
    "print(\"Row-wise sum:\\n\", row_wise_sum)\n",
    "print(\"Column-wise sum:\\n\", column_wise_sum)\n"
   ]
  },
  {
   "cell_type": "markdown",
   "id": "11726d0f",
   "metadata": {},
   "source": [
    "### Assignment 4: Statistical Operations\n",
    "\n",
    "1. Create a NumPy array of shape (5, 5) filled with random integers. Compute the mean, median, standard deviation, and variance of the array."
   ]
  },
  {
   "cell_type": "code",
   "execution_count": 20,
   "id": "a3d79d57",
   "metadata": {},
   "outputs": [
    {
     "name": "stdout",
     "output_type": "stream",
     "text": [
      "Mean: 5.36\n",
      "Standard Deviation: 2.88277643947636\n",
      "Median: 6.0\n",
      "Variance: 8.3104\n"
     ]
    }
   ],
   "source": [
    "array = np.random.randint(1, 10, size=(5, 5))\n",
    "mean = np.mean(array) # Mean is sum of elements / number of elements\n",
    "std = np.std(array) # Standard deviation is a measure of the amount of variation or dispersion of a set of values\n",
    "median = np.median(array) # Median is the middle value when the elements are sorted\n",
    "variance = np.var(array) # Variance is the average of the squared differences from the mean\n",
    "\n",
    "print(\"Mean:\", mean)\n",
    "print(\"Standard Deviation:\", std)\n",
    "print(\"Median:\", median)\n",
    "print(\"Variance:\", variance)\n"
   ]
  },
  {
   "cell_type": "markdown",
   "id": "a500f35f",
   "metadata": {},
   "source": [
    "2. Create a NumPy array of shape (3, 3) with values from 1 to 9. Normalize the array (i.e., scale the values to have a mean of 0 and a standard deviation of 1)."
   ]
  },
  {
   "cell_type": "code",
   "execution_count": 22,
   "id": "30bf0323",
   "metadata": {},
   "outputs": [
    {
     "data": {
      "text/plain": [
       "array([[2, 7, 4],\n",
       "       [7, 1, 8],\n",
       "       [8, 5, 4]])"
      ]
     },
     "execution_count": 22,
     "metadata": {},
     "output_type": "execute_result"
    }
   ],
   "source": [
    "array = np.random.randint(1, 10, size=(3, 3))\n",
    "array"
   ]
  },
  {
   "cell_type": "code",
   "execution_count": 24,
   "id": "edecf075",
   "metadata": {},
   "outputs": [
    {
     "data": {
      "text/plain": [
       "array([[-1.2833779 ,  0.77919372, -0.45834925],\n",
       "       [ 0.77919372, -1.69589222,  1.19170805],\n",
       "       [ 1.19170805, -0.04583492, -0.45834925]])"
      ]
     },
     "execution_count": 24,
     "metadata": {},
     "output_type": "execute_result"
    }
   ],
   "source": [
    "normalized_array = (array - np.mean(array)) / np.std(array) # normalized is the array with mean 0 and std 1\n",
    "normalized_array"
   ]
  },
  {
   "cell_type": "markdown",
   "id": "d67e20be",
   "metadata": {},
   "source": [
    "### Assignment 5: Broadcasting\n",
    "\n",
    "1. Create a NumPy array of shape (3, 3) filled with random integers. Add a 1D array of shape (3,) to each row of the 2D array using broadcasting."
   ]
  },
  {
   "cell_type": "code",
   "execution_count": 25,
   "id": "03efd1d2",
   "metadata": {},
   "outputs": [
    {
     "data": {
      "text/plain": [
       "array([[2, 9, 8],\n",
       "       [9, 2, 6],\n",
       "       [1, 1, 3]])"
      ]
     },
     "execution_count": 25,
     "metadata": {},
     "output_type": "execute_result"
    }
   ],
   "source": [
    "array = np.random.randint(1, 10, size=(3, 3))\n",
    "array"
   ]
  },
  {
   "cell_type": "code",
   "execution_count": 26,
   "id": "f9ae89dc",
   "metadata": {},
   "outputs": [
    {
     "data": {
      "text/plain": [
       "array([6, 1, 8])"
      ]
     },
     "execution_count": 26,
     "metadata": {},
     "output_type": "execute_result"
    }
   ],
   "source": [
    "x = np.random.randint(1, 10, size=(3,))\n",
    "x"
   ]
  },
  {
   "cell_type": "code",
   "execution_count": 28,
   "id": "a96f2a8e",
   "metadata": {},
   "outputs": [
    {
     "data": {
      "text/plain": [
       "array([[ 8, 10, 16],\n",
       "       [15,  3, 14],\n",
       "       [ 7,  2, 11]])"
      ]
     },
     "execution_count": 28,
     "metadata": {},
     "output_type": "execute_result"
    }
   ],
   "source": [
    "broadcasted_array = array + x\n",
    "broadcasted_array"
   ]
  },
  {
   "cell_type": "markdown",
   "id": "b09a7ca7",
   "metadata": {},
   "source": [
    "2. Create a NumPy array of shape (4, 4) filled with random integers. Subtract a 1D array of shape (4,) from each column of the 2D array using broadcasting."
   ]
  },
  {
   "cell_type": "code",
   "execution_count": 29,
   "id": "1d6b2562",
   "metadata": {},
   "outputs": [
    {
     "data": {
      "text/plain": [
       "array([[5, 5, 2, 7],\n",
       "       [9, 5, 6, 6],\n",
       "       [4, 6, 9, 4],\n",
       "       [6, 1, 9, 9]])"
      ]
     },
     "execution_count": 29,
     "metadata": {},
     "output_type": "execute_result"
    }
   ],
   "source": [
    "array = np.random.randint(1, 10, size=(4, 4))\n",
    "array"
   ]
  },
  {
   "cell_type": "code",
   "execution_count": 30,
   "id": "f8ccea44",
   "metadata": {},
   "outputs": [
    {
     "data": {
      "text/plain": [
       "array([4, 2, 1, 5])"
      ]
     },
     "execution_count": 30,
     "metadata": {},
     "output_type": "execute_result"
    }
   ],
   "source": [
    "x = np.random.randint(1, 10, size=(4,))\n",
    "x"
   ]
  },
  {
   "cell_type": "code",
   "execution_count": 31,
   "id": "30a6e044",
   "metadata": {},
   "outputs": [
    {
     "data": {
      "text/plain": [
       "array([[ 1,  3,  1,  2],\n",
       "       [ 5,  3,  5,  1],\n",
       "       [ 0,  4,  8, -1],\n",
       "       [ 2, -1,  8,  4]])"
      ]
     },
     "execution_count": 31,
     "metadata": {},
     "output_type": "execute_result"
    }
   ],
   "source": [
    "broadcasted_array = array - x\n",
    "broadcasted_array"
   ]
  },
  {
   "cell_type": "markdown",
   "id": "9eb42020",
   "metadata": {},
   "source": [
    "### Assignment 6: Linear Algebra\n",
    "\n",
    "1. Create a NumPy array of shape (3, 3) representing a matrix. Compute its determinant, inverse, and eigenvalues."
   ]
  },
  {
   "cell_type": "code",
   "execution_count": 32,
   "id": "f8822f86",
   "metadata": {},
   "outputs": [
    {
     "data": {
      "text/plain": [
       "array([[6, 7, 9],\n",
       "       [7, 7, 6],\n",
       "       [9, 4, 4]])"
      ]
     },
     "execution_count": 32,
     "metadata": {},
     "output_type": "execute_result"
    }
   ],
   "source": [
    "array = np.random.randint(1, 10, size=(3, 3))\n",
    "array\n"
   ]
  },
  {
   "cell_type": "code",
   "execution_count": 34,
   "id": "c95fa6de",
   "metadata": {},
   "outputs": [
    {
     "name": "stdout",
     "output_type": "stream",
     "text": [
      "Determinant: -108.99999999999997\n",
      "Inverse:\n",
      " [[-0.03669725 -0.0733945   0.19266055]\n",
      " [-0.23853211  0.52293578 -0.24770642]\n",
      " [ 0.32110092 -0.35779817  0.06422018]]\n",
      "Eigenvalues: [19.75758101 -4.10237876  1.34479774]\n"
     ]
    }
   ],
   "source": [
    "determinant = np.linalg.det(array)\n",
    "inverse = np.linalg.inv(array)\n",
    "eigenvalues = np.linalg.eigvals(array)\n",
    "\n",
    "print(\"Determinant:\", determinant) # Determinant is a scalar value that can be computed from the elements of a square matrix\n",
    "print(\"Inverse:\\n\", inverse) # Inverse is the matrix that, when multiplied with the original matrix, yields the identity matrix\n",
    "print(\"Eigenvalues:\", eigenvalues) # Eigenvalues are the roots of the characteristic polynomial"
   ]
  },
  {
   "cell_type": "markdown",
   "id": "17bb22a7",
   "metadata": {},
   "source": [
    "2. Create two NumPy arrays of shape (2, 3) and (3, 2). Perform matrix multiplication on these arrays."
   ]
  },
  {
   "cell_type": "code",
   "execution_count": 48,
   "id": "1637e635",
   "metadata": {},
   "outputs": [
    {
     "name": "stdout",
     "output_type": "stream",
     "text": [
      "Array 1:\n",
      " [[1 8 2]\n",
      " [3 8 2]]\n",
      "Array 2:\n",
      " [[7 7]\n",
      " [4 8]\n",
      " [8 4]]\n",
      "Result of Matrix Multiplication:\n",
      " [[55 79]\n",
      " [69 93]]\n"
     ]
    }
   ],
   "source": [
    "array1 = np.random.randint(1, 10, size=(2, 3))\n",
    "array2 = np.random.randint(1, 10, size=(3, 2))\n",
    "result = np.dot(array1, array2)\n",
    "print(\"Array 1:\\n\", array1)\n",
    "print(\"Array 2:\\n\", array2)\n",
    "print(\"Result of Matrix Multiplication:\\n\", result)"
   ]
  },
  {
   "cell_type": "markdown",
   "id": "c7bc779e",
   "metadata": {},
   "source": [
    "### Assignment 7: Advanced Array Manipulation\n",
    "\n",
    "1. Create a NumPy array of shape (3, 3) with values from 1 to 9. Reshape the array to shape (1, 9) and then to shape (9, 1)."
   ]
  },
  {
   "cell_type": "code",
   "execution_count": 36,
   "id": "5682b614",
   "metadata": {},
   "outputs": [
    {
     "data": {
      "text/plain": [
       "array([[1, 2, 3],\n",
       "       [4, 5, 6],\n",
       "       [7, 8, 9]])"
      ]
     },
     "execution_count": 36,
     "metadata": {},
     "output_type": "execute_result"
    }
   ],
   "source": [
    "array = np.array([[1, 2, 3], [4, 5, 6], [7, 8, 9]])\n",
    "array"
   ]
  },
  {
   "cell_type": "code",
   "execution_count": 38,
   "id": "2ab853d1",
   "metadata": {},
   "outputs": [
    {
     "name": "stdout",
     "output_type": "stream",
     "text": [
      "[[1 2 3 4 5 6 7 8 9]]\n"
     ]
    }
   ],
   "source": [
    "array = array.reshape(1, 9)\n",
    "print(array)"
   ]
  },
  {
   "cell_type": "code",
   "execution_count": 40,
   "id": "bb70cf44",
   "metadata": {},
   "outputs": [
    {
     "name": "stdout",
     "output_type": "stream",
     "text": [
      "[[1]\n",
      " [2]\n",
      " [3]\n",
      " [4]\n",
      " [5]\n",
      " [6]\n",
      " [7]\n",
      " [8]\n",
      " [9]]\n"
     ]
    }
   ],
   "source": [
    "array = array.reshape(9, 1)\n",
    "print(array)"
   ]
  },
  {
   "cell_type": "markdown",
   "id": "d526f45d",
   "metadata": {},
   "source": [
    "2. Create a NumPy array of shape (5, 5) filled with random integers. Flatten the array and then reshape it back to (5, 5)."
   ]
  },
  {
   "cell_type": "code",
   "execution_count": 42,
   "id": "6ff3db32",
   "metadata": {},
   "outputs": [
    {
     "name": "stdout",
     "output_type": "stream",
     "text": [
      "Array:\n",
      " [[ 58  67  36  56  27]\n",
      " [ 73  18  55  99  80]\n",
      " [ 24  80  36 100   2]\n",
      " [ 41  90   4  73  72]\n",
      " [ 71  96  71  89  36]]\n",
      "Flattened Array:\n",
      " [ 58  67  36  56  27  73  18  55  99  80  24  80  36 100   2  41  90   4\n",
      "  73  72  71  96  71  89  36]\n",
      "Reshaped Array:\n",
      " [[ 58  67  36  56  27]\n",
      " [ 73  18  55  99  80]\n",
      " [ 24  80  36 100   2]\n",
      " [ 41  90   4  73  72]\n",
      " [ 71  96  71  89  36]]\n"
     ]
    }
   ],
   "source": [
    "array = np.random.randint(1, 101, size=(5, 5))\n",
    "print('Array:\\n', array)\n",
    "array = array.flatten()\n",
    "print('Flattened Array:\\n', array)\n",
    "array = array.reshape(5, 5)\n",
    "print('Reshaped Array:\\n', array)"
   ]
  },
  {
   "cell_type": "markdown",
   "id": "ba7d668e",
   "metadata": {},
   "source": [
    "### Assignment 8: Fancy Indexing and Boolean Indexing\n",
    "\n",
    "1. Create a NumPy array of shape (5, 5) filled with random integers. Use fancy indexing to extract the elements at the corners of the array."
   ]
  },
  {
   "cell_type": "code",
   "execution_count": 43,
   "id": "0174e0be",
   "metadata": {},
   "outputs": [
    {
     "name": "stdout",
     "output_type": "stream",
     "text": [
      "Array:\n",
      " [[39 38 37 87 67]\n",
      " [37 47 34  9 37]\n",
      " [59  8 71 70 31]\n",
      " [ 5 76 75 96 63]\n",
      " [99 88 51 83 19]]\n"
     ]
    }
   ],
   "source": [
    "array = np.random.randint(1, 101, size=(5, 5))\n",
    "print('Array:\\n', array)"
   ]
  },
  {
   "cell_type": "code",
   "execution_count": 45,
   "id": "c7121d9d",
   "metadata": {},
   "outputs": [
    {
     "name": "stdout",
     "output_type": "stream",
     "text": [
      "Corners: [39 67 99 19]\n"
     ]
    }
   ],
   "source": [
    "corners = array[[0, 0, -1, -1], [0, -1, 0, -1]]\n",
    "print(\"Corners:\", corners)"
   ]
  },
  {
   "cell_type": "markdown",
   "id": "6f4b0e00",
   "metadata": {},
   "source": [
    "2. Create a NumPy array of shape (4, 4) filled with random integers. Use boolean indexing to set all elements greater than 10 to 10."
   ]
  },
  {
   "cell_type": "code",
   "execution_count": 46,
   "id": "5e0ef547",
   "metadata": {},
   "outputs": [
    {
     "name": "stdout",
     "output_type": "stream",
     "text": [
      "Array:\n",
      " [[74 66 68  2]\n",
      " [71 48 79 85]\n",
      " [25 32  6 75]\n",
      " [86 60 36 47]]\n"
     ]
    }
   ],
   "source": [
    "array = np.random.randint(1, 101, size=(4, 4))\n",
    "print('Array:\\n', array)"
   ]
  },
  {
   "cell_type": "code",
   "execution_count": 47,
   "id": "ca3be994",
   "metadata": {},
   "outputs": [
    {
     "name": "stdout",
     "output_type": "stream",
     "text": [
      "Modified Array:\n",
      " [[10 10 10  2]\n",
      " [10 10 10 10]\n",
      " [10 10  6 10]\n",
      " [10 10 10 10]]\n"
     ]
    }
   ],
   "source": [
    "greater_than_ten = array > 10\n",
    "array[greater_than_ten] = 10\n",
    "print('Modified Array:\\n', array)\n"
   ]
  },
  {
   "cell_type": "markdown",
   "id": "17d215e7",
   "metadata": {},
   "source": [
    "### Assignment 9: Structured Arrays\n",
    "\n",
    "1. Create a structured array with fields 'name' (string), 'age' (integer), and 'weight' (float). Add some data and sort the array by age."
   ]
  },
  {
   "cell_type": "code",
   "execution_count": 49,
   "id": "b834f23e",
   "metadata": {},
   "outputs": [
    {
     "name": "stdout",
     "output_type": "stream",
     "text": [
      "Original array:\n",
      "[('Alice', 25, 55.5) ('Bob', 30, 85.3) ('Charlie', 20, 65.2)]\n",
      "Sorted array by age:\n",
      "[('Charlie', 20, 65.2) ('Alice', 25, 55.5) ('Bob', 30, 85.3)]\n"
     ]
    }
   ],
   "source": [
    "# Create a structured array with fields 'name', 'age', and 'weight'\n",
    "data_type = [('name', 'U10'), ('age', 'i4'), ('weight', 'f4')]\n",
    "data = np.array([('Alice', 25, 55.5), ('Bob', 30, 85.3), ('Charlie', 20, 65.2)], dtype=data_type)\n",
    "print(\"Original array:\")\n",
    "print(data)\n",
    "\n",
    "# Sort the array by age\n",
    "sorted_data = np.sort(data, order='age')\n",
    "print(\"Sorted array by age:\")\n",
    "print(sorted_data)"
   ]
  },
  {
   "cell_type": "markdown",
   "id": "821eb230",
   "metadata": {},
   "source": [
    "2. Create a structured array with fields 'x' and 'y' (both integers). Add some data and compute the Euclidean distance between each pair of points."
   ]
  },
  {
   "cell_type": "code",
   "execution_count": 50,
   "id": "2767a0df",
   "metadata": {},
   "outputs": [
    {
     "name": "stdout",
     "output_type": "stream",
     "text": [
      "Original array:\n",
      "[(1, 2) (3, 4) (5, 6)]\n",
      "Euclidean distances:\n",
      "[[0.         2.82842712 5.65685425]\n",
      " [2.82842712 0.         2.82842712]\n",
      " [5.65685425 2.82842712 0.        ]]\n"
     ]
    }
   ],
   "source": [
    "# Create a structured array with fields 'x' and 'y'\n",
    "data_type = [('x', 'i4'), ('y', 'i4')]\n",
    "data = np.array([(1, 2), (3, 4), (5, 6)], dtype=data_type)\n",
    "print(\"Original array:\")\n",
    "print(data)\n",
    "\n",
    "# Compute the Euclidean distance between each pair of points\n",
    "distances = np.sqrt((data['x'][:, np.newaxis] - data['x'])**2 + (data['y'][:, np.newaxis] - data['y'])**2)\n",
    "print(\"Euclidean distances:\")\n",
    "print(distances)"
   ]
  },
  {
   "cell_type": "markdown",
   "id": "f13af82b",
   "metadata": {},
   "source": [
    "### Assignment 10: Masked Arrays\n",
    "\n",
    "1. Create a masked array of shape (4, 4) with random integers and mask the elements greater than 10. Compute the sum of the unmasked elements."
   ]
  },
  {
   "cell_type": "code",
   "execution_count": 53,
   "id": "02f5e794",
   "metadata": {},
   "outputs": [
    {
     "name": "stdout",
     "output_type": "stream",
     "text": [
      "Original array:\n",
      "[[ 1 11 10  1]\n",
      " [ 4  1 12 18]\n",
      " [13 19  9 14]\n",
      " [18 19  3 12]]\n",
      "Masked array:\n",
      "[[1 -- 10 1]\n",
      " [4 1 -- --]\n",
      " [-- -- 9 --]\n",
      " [-- -- 3 --]]\n"
     ]
    }
   ],
   "source": [
    "array = np.random.randint(1, 20, size=(4, 4))\n",
    "masked_array = np.ma.masked_greater(array, 10)\n",
    "\n",
    "print(\"Original array:\")\n",
    "print(array)\n",
    "print(\"Masked array:\")\n",
    "print(masked_array)"
   ]
  },
  {
   "cell_type": "code",
   "execution_count": 54,
   "id": "33998f1b",
   "metadata": {},
   "outputs": [
    {
     "name": "stdout",
     "output_type": "stream",
     "text": [
      "Sum of unmasked elements:\n",
      "29\n"
     ]
    }
   ],
   "source": [
    "sum_unmasked = masked_array.sum()\n",
    "print(\"Sum of unmasked elements:\")\n",
    "print(sum_unmasked)"
   ]
  },
  {
   "cell_type": "markdown",
   "id": "3c0bf346",
   "metadata": {},
   "source": [
    "2. Create a masked array of shape (3, 3) with random integers and mask the diagonal elements. Replace the masked elements with the mean of the unmasked elements."
   ]
  },
  {
   "cell_type": "code",
   "execution_count": 56,
   "id": "74b1376d",
   "metadata": {},
   "outputs": [
    {
     "name": "stdout",
     "output_type": "stream",
     "text": [
      "Original array:\n",
      "[[16  7 14]\n",
      " [14  8 18]\n",
      " [18 20  5]]\n",
      "Masked array:\n",
      "[[-- 7 14]\n",
      " [14 -- 18]\n",
      " [18 20 --]]\n"
     ]
    }
   ],
   "source": [
    "# Create a masked array of shape (3, 3) with random integers\n",
    "array = np.random.randint(1, 21, size=(3, 3))\n",
    "masked_array = np.ma.masked_array(array, mask=np.eye(3, dtype=bool))\n",
    "print(\"Original array:\")\n",
    "print(array)\n",
    "print(\"Masked array:\")\n",
    "print(masked_array)"
   ]
  },
  {
   "cell_type": "code",
   "execution_count": 57,
   "id": "e79f7972",
   "metadata": {},
   "outputs": [
    {
     "name": "stdout",
     "output_type": "stream",
     "text": [
      "Modified masked array:\n",
      "[[15  7 14]\n",
      " [14 15 18]\n",
      " [18 20 15]]\n"
     ]
    }
   ],
   "source": [
    "# Replace the masked elements with the mean of the unmasked elements\n",
    "mean_unmasked = masked_array.mean()\n",
    "masked_array = masked_array.filled(mean_unmasked)\n",
    "print(\"Modified masked array:\")\n",
    "print(masked_array)"
   ]
  },
  {
   "cell_type": "code",
   "execution_count": null,
   "id": "09f4d762",
   "metadata": {},
   "outputs": [],
   "source": []
  }
 ],
 "metadata": {
  "kernelspec": {
   "display_name": "ds312",
   "language": "python",
   "name": "python3"
  },
  "language_info": {
   "codemirror_mode": {
    "name": "ipython",
    "version": 3
   },
   "file_extension": ".py",
   "mimetype": "text/x-python",
   "name": "python",
   "nbconvert_exporter": "python",
   "pygments_lexer": "ipython3",
   "version": "3.12.11"
  }
 },
 "nbformat": 4,
 "nbformat_minor": 5
}
