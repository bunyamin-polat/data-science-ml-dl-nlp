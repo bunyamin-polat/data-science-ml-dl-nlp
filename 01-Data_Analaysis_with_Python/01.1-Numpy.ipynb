{
 "cells": [
  {
   "cell_type": "markdown",
   "id": "d144a854",
   "metadata": {},
   "source": [
    "## NumPy\n",
    "\n",
    "NumPy is a powerful library for numerical computing in Python. It provides support for arrays, matrices, and a wide range of mathematical functions.\n",
    "\n",
    "### Key Features\n",
    "\n",
    "- **N-dimensional arrays**: NumPy's core feature is the ndarray, a fast and flexible container for large data sets in Python.\n",
    "\n",
    "- **Broadcasting**: NumPy can perform operations on arrays of different shapes, making it easy to work with data of varying dimensions.\n",
    "\n",
    "- **Indexing and slicing**: NumPy provides powerful tools for indexing and slicing arrays, allowing for easy manipulation of data.\n",
    "\n",
    "- **Vectorization**: NumPy allows for vectorized operations, enabling element-wise operations on arrays without the need for explicit loops.\n",
    "\n",
    "- **Mathematical functions**: NumPy provides a wide range of mathematical functions for performing operations on arrays, including linear algebra, statistics, and more.\n",
    "  "
   ]
  },
  {
   "cell_type": "code",
   "execution_count": 1,
   "id": "cbaab3af",
   "metadata": {},
   "outputs": [],
   "source": [
    "import numpy as np"
   ]
  },
  {
   "cell_type": "code",
   "execution_count": null,
   "id": "0fe0bad5",
   "metadata": {},
   "outputs": [
    {
     "name": "stdout",
     "output_type": "stream",
     "text": [
      "Array: [1 2 3]\n",
      "Type: <class 'numpy.ndarray'>\n",
      "Shape: (3,)\n",
      "Dimensions: 1\n"
     ]
    }
   ],
   "source": [
    "arr1 = np.array([1, 2, 3])\n",
    "\n",
    "print(f\"Array: {arr1}\")\n",
    "print(f\"Type: {type(arr1)}\")\n",
    "print(f\"Shape: {arr1.shape}\") # Shape means the dimensions of the array\n",
    "print(f\"Dimensions: {arr1.ndim}\") # Number of dimensions"
   ]
  },
  {
   "cell_type": "code",
   "execution_count": 5,
   "id": "dfb7bfa8",
   "metadata": {},
   "outputs": [
    {
     "name": "stdout",
     "output_type": "stream",
     "text": [
      "Array: [[1 2 3 4 5]]\n",
      "Type: <class 'numpy.ndarray'>\n",
      "Shape: (1, 5)\n",
      "Dimensions: 2\n"
     ]
    }
   ],
   "source": [
    "arr2 = np.array([1, 2, 3, 4, 5])\n",
    "arr2 = arr2.reshape(1, 5) # Reshape to 1 row and 5 columns\n",
    "\n",
    "print(f\"Array: {arr2}\")\n",
    "print(f\"Type: {type(arr2)}\")\n",
    "print(f\"Shape: {arr2.shape}\")\n",
    "print(f\"Dimensions: {arr2.ndim}\")"
   ]
  },
  {
   "cell_type": "code",
   "execution_count": 7,
   "id": "2d649340",
   "metadata": {},
   "outputs": [
    {
     "name": "stdout",
     "output_type": "stream",
     "text": [
      "Array: \n",
      "[[1 2 3]\n",
      " [4 5 6]]\n",
      "Shape: (2, 3)\n",
      "Dimensions: 2\n"
     ]
    }
   ],
   "source": [
    "arr3 = np.array([[1, 2, 3], [4, 5, 6]])\n",
    "\n",
    "print(f\"Array: \\n{arr3}\")\n",
    "print(f\"Shape: {arr3.shape}\")\n",
    "print(f\"Dimensions: {arr3.ndim}\")"
   ]
  },
  {
   "cell_type": "code",
   "execution_count": 8,
   "id": "f85be395",
   "metadata": {},
   "outputs": [
    {
     "name": "stdout",
     "output_type": "stream",
     "text": [
      "Array: [1 3 5 7 9]\n",
      "Type: <class 'numpy.ndarray'>\n",
      "Shape: (5,)\n",
      "Dimensions: 1\n"
     ]
    }
   ],
   "source": [
    "arr4 = np.arange(1, 10, 2) # Start at 1, stop before 10, step by 2\n",
    "\n",
    "print(f\"Array: {arr4}\")\n",
    "print(f\"Type: {type(arr4)}\")\n",
    "print(f\"Shape: {arr4.shape}\")\n",
    "print(f\"Dimensions: {arr4.ndim}\")\n"
   ]
  },
  {
   "cell_type": "code",
   "execution_count": 9,
   "id": "b0af4964",
   "metadata": {},
   "outputs": [
    {
     "data": {
      "text/plain": [
       "array([[1],\n",
       "       [3],\n",
       "       [5],\n",
       "       [7],\n",
       "       [9]])"
      ]
     },
     "execution_count": 9,
     "metadata": {},
     "output_type": "execute_result"
    }
   ],
   "source": [
    "np.arange(1, 10, 2).reshape(5, 1)"
   ]
  },
  {
   "cell_type": "code",
   "execution_count": 11,
   "id": "926891d2",
   "metadata": {},
   "outputs": [
    {
     "data": {
      "text/plain": [
       "array([[1., 1., 1., 1.],\n",
       "       [1., 1., 1., 1.],\n",
       "       [1., 1., 1., 1.]])"
      ]
     },
     "execution_count": 11,
     "metadata": {},
     "output_type": "execute_result"
    }
   ],
   "source": [
    "np.ones((3, 4)) # Create an array of ones with shape (3, 4)"
   ]
  },
  {
   "cell_type": "code",
   "execution_count": 12,
   "id": "b937c4db",
   "metadata": {},
   "outputs": [
    {
     "data": {
      "text/plain": [
       "array([[1., 0., 0.],\n",
       "       [0., 1., 0.],\n",
       "       [0., 0., 1.]])"
      ]
     },
     "execution_count": 12,
     "metadata": {},
     "output_type": "execute_result"
    }
   ],
   "source": [
    "## Identity\n",
    "np.eye(3) # Create a 3x3 identity matrix"
   ]
  },
  {
   "cell_type": "code",
   "execution_count": 13,
   "id": "c23d1ee0",
   "metadata": {},
   "outputs": [
    {
     "name": "stdout",
     "output_type": "stream",
     "text": [
      "Array: \n",
      "[[1 2 3]\n",
      " [4 5 6]]\n",
      "Shape: (2, 3)\n",
      "Dimensions: 2\n",
      "Size: 6\n",
      "Data Type: int64\n",
      "Item Size: 8 bytes\n"
     ]
    }
   ],
   "source": [
    "arr = np.array([[1, 2, 3], [4, 5, 6]])\n",
    "\n",
    "print(f\"Array: \\n{arr}\")\n",
    "print(f\"Shape: {arr.shape}\")\n",
    "print(f\"Dimensions: {arr.ndim}\")\n",
    "print(f\"Size: {arr.size}\") # Total number of elements in the array\n",
    "print(f\"Data Type: {arr.dtype}\") # Data type of the elements in the array\n",
    "print(f\"Item Size: {arr.itemsize} bytes\") # Size of each element in bytes"
   ]
  },
  {
   "cell_type": "markdown",
   "id": "7ffcdcaf",
   "metadata": {},
   "source": [
    "### Numpy Vectorized Operations"
   ]
  },
  {
   "cell_type": "code",
   "execution_count": 18,
   "id": "18f9c9b6",
   "metadata": {},
   "outputs": [
    {
     "name": "stdout",
     "output_type": "stream",
     "text": [
      "Element-wise Addition: [11 22 33 44 55]\n",
      "Element-wise Multiplication: [ 10  40  90 160 250]\n",
      "Element-wise Subtraction: [ 9 18 27 36 45]\n",
      "Element-wise Division: [0.1 0.1 0.1 0.1 0.1]\n"
     ]
    }
   ],
   "source": [
    "arr1 = np.array([1, 2, 3, 4, 5])\n",
    "arr2 = np.array([10, 20, 30, 40, 50])\n",
    "\n",
    "## Element-wise Addition\n",
    "arr3 = arr1 + arr2\n",
    "print(f\"Element-wise Addition: {arr3}\")\n",
    "\n",
    "## Element-wise Multiplication\n",
    "arr4 = arr1 * arr2\n",
    "print(f\"Element-wise Multiplication: {arr4}\")\n",
    "\n",
    "## Element-wise Subtraction\n",
    "arr5 = arr2 - arr1\n",
    "print(f\"Element-wise Subtraction: {arr5}\")\n",
    "\n",
    "## Element-wise Division\n",
    "arr6 = arr1 / arr2\n",
    "print(f\"Element-wise Division: {arr6}\")\n"
   ]
  },
  {
   "cell_type": "markdown",
   "id": "f3a29813",
   "metadata": {},
   "source": [
    "### Universal Functions (ufuncs)"
   ]
  },
  {
   "cell_type": "code",
   "execution_count": 19,
   "id": "56b61dac",
   "metadata": {},
   "outputs": [
    {
     "name": "stdout",
     "output_type": "stream",
     "text": [
      "Square Root: [1.         1.41421356 1.73205081 2.         2.23606798]\n",
      "Exponential: [  2.71828183   7.3890561   20.08553692  54.59815003 148.4131591 ]\n",
      "Natural Log: [0.         0.69314718 1.09861229 1.38629436 1.60943791]\n",
      "Sine: [ 0.84147098  0.90929743  0.14112001 -0.7568025  -0.95892427]\n"
     ]
    }
   ],
   "source": [
    "arr = np.array([1, 2, 3, 4, 5])\n",
    "\n",
    "## Square root each element\n",
    "arr_sqrt = np.sqrt(arr)\n",
    "print(f\"Square Root: {arr_sqrt}\")\n",
    "\n",
    "## Exponential (e^x) of each element\n",
    "arr_exp = np.exp(arr)\n",
    "print(f\"Exponential: {arr_exp}\")\n",
    "\n",
    "## Natural Logarithm (ln) of each element\n",
    "arr_log = np.log(arr)\n",
    "print(f\"Natural Log: {arr_log}\")\n",
    "\n",
    "## Sine of each element\n",
    "arr_sin = np.sin(arr)\n",
    "print(f\"Sine: {arr_sin}\")\n"
   ]
  },
  {
   "cell_type": "markdown",
   "id": "1c30589b",
   "metadata": {},
   "source": [
    "### Array Slicing"
   ]
  },
  {
   "cell_type": "code",
   "execution_count": 28,
   "id": "31d3a89a",
   "metadata": {},
   "outputs": [
    {
     "name": "stdout",
     "output_type": "stream",
     "text": [
      "Original Array: \n",
      "[[ 1  2  3  4]\n",
      " [ 5  6  7  8]\n",
      " [ 9 10 11 12]]\n",
      "Sliced Array (elements 1 to 3): \n",
      "[[ 5  6  7  8]\n",
      " [ 9 10 11 12]]\n",
      "Sliced Array (first 3 elements): \n",
      "[[ 1  2  3  4]\n",
      " [ 5  6  7  8]\n",
      " [ 9 10 11 12]]\n",
      "Sliced Array (last 2 elements): \n",
      "[[ 5  6  7  8]\n",
      " [ 9 10 11 12]]\n"
     ]
    }
   ],
   "source": [
    "arr = np.array([[1, 2, 3, 4], [5, 6, 7, 8], [9, 10, 11, 12]])\n",
    "\n",
    "## Slicing\n",
    "print(f\"Original Array: \\n{arr}\")\n",
    "print(f\"Sliced Array (elements 1 to 3): \\n{arr[1:4]}\") ## Slicing from 1st to 3rd row\n",
    "print(f\"Sliced Array (first 3 elements): \\n{arr[:3]}\") ## Slicing from 0th to 2nd row\n",
    "print(f\"Sliced Array (last 2 elements): \\n{arr[-2:]}\") ## Slicing from 1st to 2nd row"
   ]
  },
  {
   "cell_type": "code",
   "execution_count": 29,
   "id": "f8f87f47",
   "metadata": {},
   "outputs": [
    {
     "name": "stdout",
     "output_type": "stream",
     "text": [
      "1\n"
     ]
    }
   ],
   "source": [
    "print(arr[0][0]) ## Accessing the element at 0th row and 0th column"
   ]
  },
  {
   "cell_type": "code",
   "execution_count": 30,
   "id": "b94a8df7",
   "metadata": {},
   "outputs": [
    {
     "name": "stdout",
     "output_type": "stream",
     "text": [
      "11\n"
     ]
    }
   ],
   "source": [
    "print(arr[2][2]) ## Accessing the element at 2nd row and 2nd column"
   ]
  },
  {
   "cell_type": "code",
   "execution_count": 31,
   "id": "b19a4ad2",
   "metadata": {},
   "outputs": [
    {
     "name": "stdout",
     "output_type": "stream",
     "text": [
      "[[ 7  8]\n",
      " [11 12]]\n"
     ]
    }
   ],
   "source": [
    "print(arr[1:, 2:]) ## Slicing from 1st row and 2nd column"
   ]
  },
  {
   "cell_type": "code",
   "execution_count": 32,
   "id": "03102519",
   "metadata": {},
   "outputs": [
    {
     "name": "stdout",
     "output_type": "stream",
     "text": [
      "[[ 7]\n",
      " [11]]\n"
     ]
    }
   ],
   "source": [
    "print(arr[1:, 2:3])"
   ]
  },
  {
   "cell_type": "code",
   "execution_count": 33,
   "id": "1c7b8120",
   "metadata": {},
   "outputs": [
    {
     "name": "stdout",
     "output_type": "stream",
     "text": [
      "[[ 1  2  3  4]\n",
      " [ 5  6  0  8]\n",
      " [ 9 10  0 12]]\n"
     ]
    }
   ],
   "source": [
    "## Modify the array\n",
    "arr[1:, 2:3] = 0\n",
    "print(arr)"
   ]
  },
  {
   "cell_type": "code",
   "execution_count": 34,
   "id": "a636fa52",
   "metadata": {},
   "outputs": [
    {
     "name": "stdout",
     "output_type": "stream",
     "text": [
      "[[20  2  3  4]\n",
      " [ 5  6  0  8]\n",
      " [ 9 10  0 12]]\n"
     ]
    }
   ],
   "source": [
    "arr[0, 0] = 20\n",
    "print(arr)"
   ]
  },
  {
   "cell_type": "markdown",
   "id": "bb08883f",
   "metadata": {},
   "source": [
    "### Statistical Concepts"
   ]
  },
  {
   "cell_type": "code",
   "execution_count": 37,
   "id": "01275fc1",
   "metadata": {},
   "outputs": [
    {
     "name": "stdout",
     "output_type": "stream",
     "text": [
      "Mean: 3.0\n",
      "Median: 3.0\n",
      "Standard Deviation: 1.4142135623730951\n",
      "Normalized Data: [-1.41421356 -0.70710678  0.          0.70710678  1.41421356]\n",
      "Variance: 2.0\n"
     ]
    }
   ],
   "source": [
    "data = np.array([1, 2, 3, 4, 5])\n",
    "\n",
    "mean = np.mean(data) ## Mean of the data; sum / count\n",
    "median = np.median(data) ## Median of the data; middle value\n",
    "std_dev = np.std(data) ## Standard deviation is a measure of the amount of variation or dispersion of a set of values.\n",
    "normalized_data = (data - mean) / std_dev ## Normalized data is the data expressed in terms of standard deviations from the mean.\n",
    "variance = np.var(data) ## Variance is the average of the squared differences from the mean.\n",
    "\n",
    "print(f\"Mean: {mean}\\nMedian: {median}\\nStandard Deviation: {std_dev}\\nNormalized Data: {normalized_data}\\nVariance: {variance}\")"
   ]
  },
  {
   "cell_type": "markdown",
   "id": "c602b37f",
   "metadata": {},
   "source": [
    "### Logical Operations"
   ]
  },
  {
   "cell_type": "code",
   "execution_count": 38,
   "id": "a9885b3f",
   "metadata": {},
   "outputs": [
    {
     "name": "stdout",
     "output_type": "stream",
     "text": [
      "[6 7 8]\n"
     ]
    }
   ],
   "source": [
    "data = np.array([1, 2, 3, 4, 5, 6, 7, 8])\n",
    "\n",
    "print(data[data > 5]) ## Elements greater than 5\n"
   ]
  },
  {
   "cell_type": "code",
   "execution_count": 39,
   "id": "c4f365e3",
   "metadata": {},
   "outputs": [
    {
     "name": "stdout",
     "output_type": "stream",
     "text": [
      "[3 4 5 6]\n"
     ]
    }
   ],
   "source": [
    "print(data[(data > 2) & (data < 7)]) ## Elements greater than 2 and less than 7\n"
   ]
  },
  {
   "cell_type": "code",
   "execution_count": 40,
   "id": "b4677a42",
   "metadata": {},
   "outputs": [
    {
     "data": {
      "text/plain": [
       "array([3, 4, 5, 6])"
      ]
     },
     "execution_count": 40,
     "metadata": {},
     "output_type": "execute_result"
    }
   ],
   "source": [
    "data[(data > 2) & (data < 7)]"
   ]
  }
 ],
 "metadata": {
  "kernelspec": {
   "display_name": "ds312",
   "language": "python",
   "name": "python3"
  },
  "language_info": {
   "codemirror_mode": {
    "name": "ipython",
    "version": 3
   },
   "file_extension": ".py",
   "mimetype": "text/x-python",
   "name": "python",
   "nbconvert_exporter": "python",
   "pygments_lexer": "ipython3",
   "version": "3.12.11"
  }
 },
 "nbformat": 4,
 "nbformat_minor": 5
}
