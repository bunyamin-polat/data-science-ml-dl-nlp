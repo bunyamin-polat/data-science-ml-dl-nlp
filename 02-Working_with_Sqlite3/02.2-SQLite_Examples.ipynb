{
 "cells": [
  {
   "cell_type": "markdown",
   "id": "964cf61d",
   "metadata": {},
   "source": [
    "# SQLite3 Examples"
   ]
  },
  {
   "cell_type": "markdown",
   "id": "3d0b47ff",
   "metadata": {},
   "source": [
    "### Assignment 1: Creating and Connecting to a Database\n",
    "\n",
    "1. Write a Python function to create a new SQLite3 database named `test.db`."
   ]
  },
  {
   "cell_type": "code",
   "execution_count": null,
   "id": "d18ceb37",
   "metadata": {},
   "outputs": [],
   "source": [
    "import sqlite3"
   ]
  },
  {
   "cell_type": "code",
   "execution_count": null,
   "id": "fd093fe6",
   "metadata": {},
   "outputs": [
    {
     "name": "stdout",
     "output_type": "stream",
     "text": [
      "Database created and successfully connected.\n"
     ]
    }
   ],
   "source": [
    "def create_database(db_name):\n",
    "    connection = sqlite3.connect(db_name)\n",
    "    connection.close()\n",
    "    print(\"Database created and successfully connected.\")\n",
    "\n",
    "# Test the function\n",
    "create_database(\"test.db\")"
   ]
  },
  {
   "cell_type": "markdown",
   "id": "770f33a7",
   "metadata": {},
   "source": [
    "2. Write a Python function to create a table named `employees` with columns `id` (integer), `name` (text), `age` (integer), and `department` (text) in the `test.db` database."
   ]
  },
  {
   "cell_type": "code",
   "execution_count": 6,
   "id": "2ce90aa3",
   "metadata": {},
   "outputs": [
    {
     "name": "stdout",
     "output_type": "stream",
     "text": [
      "Table created successfully.\n"
     ]
    }
   ],
   "source": [
    "def create_table():\n",
    "    connection = sqlite3.connect(\"test.db\")\n",
    "    cursor = connection.cursor()\n",
    "    cursor.execute('''CREATE TABLE IF NOT EXISTS employees\n",
    "                      (id INTEGER PRIMARY KEY,\n",
    "                       name TEXT NOT NULL,\n",
    "                       age INTEGER NOT NULL,\n",
    "                       department TEXT NOT NULL)\n",
    "                    ''')\n",
    "    connection.commit()\n",
    "    connection.close()\n",
    "    print(\"Table created successfully.\")\n",
    "    \n",
    "create_table() "
   ]
  },
  {
   "cell_type": "markdown",
   "id": "f99e141c",
   "metadata": {},
   "source": [
    "### Assignment 2: Inserting Data\n",
    "\n",
    "1. Write a Python function to insert a new employee into the `employees` table.\n"
   ]
  },
  {
   "cell_type": "code",
   "execution_count": 7,
   "id": "81c3c950",
   "metadata": {},
   "outputs": [
    {
     "name": "stdout",
     "output_type": "stream",
     "text": [
      "Employee inserted successfully.\n"
     ]
    }
   ],
   "source": [
    "def insert_employee(name, age, department):\n",
    "    connection = sqlite3.connect(\"test.db\")\n",
    "    cursor = connection.cursor()\n",
    "    cursor.execute('''INSERT INTO employees (name, age, department)\n",
    "                      VALUES (?, ?, ?)''', (name, age, department))\n",
    "    connection.commit()\n",
    "    connection.close()\n",
    "    print(\"Employee inserted successfully.\")\n",
    "\n",
    "# Test the function\n",
    "insert_employee('Alice', 30, 'HR')"
   ]
  },
  {
   "cell_type": "markdown",
   "id": "153e1f81",
   "metadata": {},
   "source": [
    "2. Insert at least 5 different employees into the `employees` table."
   ]
  },
  {
   "cell_type": "code",
   "execution_count": 8,
   "id": "892a70d0",
   "metadata": {},
   "outputs": [
    {
     "name": "stdout",
     "output_type": "stream",
     "text": [
      "Employee inserted successfully.\n",
      "Employee inserted successfully.\n",
      "Employee inserted successfully.\n",
      "Employee inserted successfully.\n"
     ]
    }
   ],
   "source": [
    "insert_employee('Bob', 35, 'Engineering')\n",
    "insert_employee('Charlie', 28, 'Sales')\n",
    "insert_employee('David', 40, 'Marketing')\n",
    "insert_employee('Eva', 22, 'HR')"
   ]
  },
  {
   "cell_type": "markdown",
   "id": "3ddda89a",
   "metadata": {},
   "source": [
    "### Assignment 3: Querying Data\n",
    "\n",
    "1. Write a Python function to fetch and display all records from the `employees` table."
   ]
  },
  {
   "cell_type": "code",
   "execution_count": 9,
   "id": "bb6134e6",
   "metadata": {},
   "outputs": [
    {
     "name": "stdout",
     "output_type": "stream",
     "text": [
      "(1, 'Alice', 30, 'HR')\n",
      "(2, 'Bob', 35, 'Engineering')\n",
      "(3, 'Charlie', 28, 'Sales')\n",
      "(4, 'David', 40, 'Marketing')\n",
      "(5, 'Eva', 22, 'HR')\n"
     ]
    }
   ],
   "source": [
    "def show_all_employees():\n",
    "    connection = sqlite3.connect(\"test.db\")\n",
    "    cursor = connection.cursor()\n",
    "    cursor.execute('''SELECT * FROM employees''')\n",
    "    rows = cursor.fetchall()\n",
    "    for row in rows:\n",
    "        print(row)\n",
    "    connection.close()\n",
    "\n",
    "# Test the function\n",
    "show_all_employees()"
   ]
  },
  {
   "cell_type": "markdown",
   "id": "fc640c26",
   "metadata": {},
   "source": [
    "2. Write a Python function to fetch and display all employees from a specific department."
   ]
  },
  {
   "cell_type": "code",
   "execution_count": 10,
   "id": "420b55f9",
   "metadata": {},
   "outputs": [
    {
     "name": "stdout",
     "output_type": "stream",
     "text": [
      "(1, 'Alice', 30, 'HR')\n",
      "(5, 'Eva', 22, 'HR')\n"
     ]
    }
   ],
   "source": [
    "def show_specific_department(department):\n",
    "    connection = sqlite3.connect(\"test.db\")\n",
    "    cursor = connection.cursor()\n",
    "    cursor.execute('''SELECT * FROM employees \n",
    "                      WHERE department = ?''', \n",
    "                      (department,))\n",
    "    rows = cursor.fetchall()\n",
    "    for row in rows:\n",
    "        print(row)\n",
    "    connection.close()\n",
    "    \n",
    "# Test the function\n",
    "show_specific_department('HR')"
   ]
  },
  {
   "cell_type": "code",
   "execution_count": 11,
   "id": "68492df1",
   "metadata": {},
   "outputs": [
    {
     "name": "stdout",
     "output_type": "stream",
     "text": [
      "(2, 'Bob', 35, 'Engineering')\n"
     ]
    }
   ],
   "source": [
    "show_specific_department('Engineering')"
   ]
  },
  {
   "cell_type": "markdown",
   "id": "60ca51fc",
   "metadata": {},
   "source": [
    "### Assignment 4: Updating Data\n",
    "\n",
    "1. Write a Python function to update the department of an employee based on their `id`."
   ]
  },
  {
   "cell_type": "code",
   "execution_count": 12,
   "id": "e886e2e8",
   "metadata": {},
   "outputs": [
    {
     "name": "stdout",
     "output_type": "stream",
     "text": [
      "Employee updated successfully.\n"
     ]
    }
   ],
   "source": [
    "def update_employee(id, department):\n",
    "    connection = sqlite3.connect(\"test.db\")\n",
    "    cursor = connection.cursor()\n",
    "    cursor.execute('''UPDATE employees \n",
    "                      SET department = ? \n",
    "                      WHERE id = ?''', \n",
    "                      (department, id))\n",
    "    connection.commit()\n",
    "    connection.close()\n",
    "    print(\"Employee updated successfully.\")\n",
    "\n",
    "# Test the function\n",
    "update_employee(1, 'Marketing')"
   ]
  },
  {
   "cell_type": "markdown",
   "id": "698f8782",
   "metadata": {},
   "source": [
    "2. Update the department of at least 2 employees and display the updated records."
   ]
  },
  {
   "cell_type": "code",
   "execution_count": 13,
   "id": "fa0e765f",
   "metadata": {},
   "outputs": [
    {
     "name": "stdout",
     "output_type": "stream",
     "text": [
      "Employee updated successfully.\n",
      "Employee updated successfully.\n",
      "Employee updated successfully.\n",
      "(1, 'Alice', 30, 'HR')\n",
      "(2, 'Bob', 35, 'Sales')\n",
      "(3, 'Charlie', 28, 'Engineering')\n",
      "(4, 'David', 40, 'Marketing')\n",
      "(5, 'Eva', 22, 'HR')\n"
     ]
    }
   ],
   "source": [
    "update_employee(1, 'HR')\n",
    "update_employee(2, 'Sales')\n",
    "update_employee(3, 'Engineering')\n",
    "\n",
    "show_all_employees()"
   ]
  },
  {
   "cell_type": "markdown",
   "id": "68ca1b4c",
   "metadata": {},
   "source": [
    "### Assignment 5: Deleting Data\n",
    "\n",
    "1. Write a Python function to delete an employee from the `employees` table based on their `id`."
   ]
  },
  {
   "cell_type": "code",
   "execution_count": 14,
   "id": "b9834d92",
   "metadata": {},
   "outputs": [
    {
     "name": "stdout",
     "output_type": "stream",
     "text": [
      "Employee deleted successfully.\n"
     ]
    }
   ],
   "source": [
    "def delete_employee(id):\n",
    "    connection = sqlite3.connect(\"test.db\")\n",
    "    cursor = connection.cursor()\n",
    "    cursor.execute('''DELETE FROM employees \n",
    "                      WHERE id = ?''', \n",
    "                      (id,))\n",
    "    connection.commit()\n",
    "    connection.close()\n",
    "    print(\"Employee deleted successfully.\")\n",
    "\n",
    "# Test the function\n",
    "delete_employee(3)"
   ]
  },
  {
   "cell_type": "markdown",
   "id": "b996f04c",
   "metadata": {},
   "source": [
    "2. Delete at least 1 employee and display the remaining records."
   ]
  },
  {
   "cell_type": "code",
   "execution_count": 15,
   "id": "5ff60f33",
   "metadata": {},
   "outputs": [
    {
     "name": "stdout",
     "output_type": "stream",
     "text": [
      "Employee deleted successfully.\n",
      "(1, 'Alice', 30, 'HR')\n",
      "(4, 'David', 40, 'Marketing')\n",
      "(5, 'Eva', 22, 'HR')\n"
     ]
    }
   ],
   "source": [
    "delete_employee(2)\n",
    "show_all_employees()"
   ]
  },
  {
   "cell_type": "markdown",
   "id": "64e5bb55",
   "metadata": {},
   "source": [
    "### Assignment 6: Advanced Queries\n",
    "\n",
    "1. Write a Python function to fetch and display employees older than a certain age."
   ]
  },
  {
   "cell_type": "code",
   "execution_count": 22,
   "id": "71105c2a",
   "metadata": {},
   "outputs": [
    {
     "name": "stdout",
     "output_type": "stream",
     "text": [
      "(4, 'David', 40, 'Marketing')\n"
     ]
    }
   ],
   "source": [
    "def fetch_employees_by_age(age):\n",
    "    connection = sqlite3.connect(\"test.db\")\n",
    "    cursor = connection.cursor()\n",
    "    cursor.execute('''SELECT * FROM employees \n",
    "                      WHERE age > ?''', (age,))\n",
    "    rows = cursor.fetchall()\n",
    "    for row in rows:\n",
    "        print(row)\n",
    "    connection.close()\n",
    "\n",
    "# Test the function\n",
    "fetch_employees_by_age(30)"
   ]
  },
  {
   "cell_type": "markdown",
   "id": "148aff05",
   "metadata": {},
   "source": [
    "2. Write a Python function to fetch and display employees whose names start with a specific letter."
   ]
  },
  {
   "cell_type": "code",
   "execution_count": 24,
   "id": "8b087de6",
   "metadata": {},
   "outputs": [
    {
     "name": "stdout",
     "output_type": "stream",
     "text": [
      "(5, 'Eva', 22, 'HR')\n"
     ]
    }
   ],
   "source": [
    "def fetch_employee_by_name_start(letter):\n",
    "    connection = sqlite3.connect(\"test.db\")\n",
    "    cursor = connection.cursor()\n",
    "    cursor.execute('''SELECT * FROM employees \n",
    "                      WHERE name LIKE ?''', (letter + '%',))\n",
    "    rows = cursor.fetchall()\n",
    "    for row in rows:\n",
    "        print(row)\n",
    "    connection.close()\n",
    "\n",
    "# Test the function\n",
    "fetch_employee_by_name_start('E')"
   ]
  },
  {
   "cell_type": "markdown",
   "id": "2f0d2a58",
   "metadata": {},
   "source": [
    "### Assignment 7: Handling Transactions\n",
    "\n",
    "1. Write a Python function to insert multiple employees into the `employees` table in a single transaction. Ensure that if any insertion fails, none of the insertions are committed."
   ]
  },
  {
   "cell_type": "code",
   "execution_count": 25,
   "id": "501facc3",
   "metadata": {},
   "outputs": [
    {
     "name": "stdout",
     "output_type": "stream",
     "text": [
      "Error occurred, transaction rolled back.\n",
      "UNIQUE constraint failed: employees.id\n"
     ]
    }
   ],
   "source": [
    "def insert_multiple_employees(employees):\n",
    "    connection = sqlite3.connect('test.db')\n",
    "    cursor = connection.cursor()\n",
    "    try:\n",
    "        cursor.executemany('''\n",
    "            INSERT INTO employees (id, name, age, department)\n",
    "            VALUES (?, ?, ?, ?)''', employees)\n",
    "        \n",
    "        connection.commit()\n",
    "        print(\"All employees inserted successfully.\")\n",
    "        \n",
    "    except Exception as e:\n",
    "        connection.rollback() # Rollback means undoing all changes made in the transaction\n",
    "        print(\"Error occurred, transaction rolled back.\")\n",
    "        print(e)\n",
    "    finally:\n",
    "        connection.close()\n",
    "\n",
    "# Test the function with valid and invalid data\n",
    "employees = [\n",
    "    (6, 'Frank', 40, 'Finance'),\n",
    "    (7, 'Grace', 29, 'Engineering'),\n",
    "    (8, 'Hannah', 35, 'Marketing'),\n",
    "    (9, 'Ivan', 38, 'Sales'),\n",
    "    (6, 'Jack', 45, 'HR')  # Duplicate ID to cause an error\n",
    "]\n",
    "insert_multiple_employees(employees)"
   ]
  },
  {
   "cell_type": "markdown",
   "id": "e4162f72",
   "metadata": {},
   "source": [
    "2. Write a Python function to update the age of multiple employees in a single transaction. Ensure that if any update fails, none of the updates are committed."
   ]
  },
  {
   "cell_type": "code",
   "execution_count": 28,
   "id": "834b1767",
   "metadata": {},
   "outputs": [
    {
     "name": "stdout",
     "output_type": "stream",
     "text": [
      "All employees updated successfully.\n"
     ]
    }
   ],
   "source": [
    "def update_multiple_employees(updates):\n",
    "    connection = sqlite3.connect('test.db')\n",
    "    cursor = connection.cursor()\n",
    "    try:\n",
    "        cursor.executemany('''\n",
    "            UPDATE employees \n",
    "            SET age = ? \n",
    "            WHERE id = ?''', updates)\n",
    "        \n",
    "        connection.commit()\n",
    "        print(\"All employees updated successfully.\")\n",
    "        \n",
    "    except Exception as e:\n",
    "        connection.rollback() # Rollback means undoing all changes made in the transaction\n",
    "        print(\"Error occurred, transaction rolled back.\")\n",
    "        print(e)\n",
    "    finally:\n",
    "        connection.close()\n",
    "\n",
    "# Test the function with valid and invalid data\n",
    "updates = [\n",
    "    (31, 1),\n",
    "    (36, 2),\n",
    "    (29, 3),\n",
    "    (41, 4),\n",
    "    (50, 10)  # Non-existent ID to cause an error\n",
    "]\n",
    "update_multiple_employees(updates)"
   ]
  },
  {
   "cell_type": "markdown",
   "id": "dee459bd",
   "metadata": {},
   "source": [
    "### Assignment 8: Creating Relationships\n",
    "\n",
    "1. Create a new table named `departments` with columns `id` (integer) and `name` (text)."
   ]
  },
  {
   "cell_type": "code",
   "execution_count": 30,
   "id": "5755f8af",
   "metadata": {},
   "outputs": [
    {
     "name": "stdout",
     "output_type": "stream",
     "text": [
      "Departments table created successfully.\n"
     ]
    }
   ],
   "source": [
    "def create_departments_table():\n",
    "    connection = sqlite3.connect(\"test.db\")\n",
    "    cursor = connection.cursor()\n",
    "    cursor.execute('''CREATE TABLE IF NOT EXISTS departments\n",
    "                      (id INTEGER PRIMARY KEY,\n",
    "                       name TEXT NOT NULL)\n",
    "                    ''')\n",
    "    connection.commit()\n",
    "    connection.close()\n",
    "    print(\"Departments table created successfully.\")\n",
    "\n",
    "create_departments_table()"
   ]
  },
  {
   "cell_type": "markdown",
   "id": "8a5fdd05",
   "metadata": {},
   "source": [
    "2. Modify the `employees` table to include a foreign key referencing the `id` column in the `departments` table."
   ]
  },
  {
   "cell_type": "code",
   "execution_count": 34,
   "id": "8093444f",
   "metadata": {},
   "outputs": [],
   "source": [
    "def add_department_foreign_key():\n",
    "    connection = sqlite3.connect(\"test.db\")\n",
    "    cursor = connection.cursor()\n",
    "    cursor.execute(\"DROP TABLE IF EXISTS employees\")\n",
    "    cursor.execute(\"\"\"\n",
    "        CREATE TABLE employees (\n",
    "            id INTEGER PRIMARY KEY,\n",
    "            name TEXT,\n",
    "            age INTEGER,\n",
    "            department_id INTEGER,\n",
    "            department TEXT,\n",
    "            FOREIGN KEY (department_id) REFERENCES departments(id)\n",
    "        )\n",
    "    \"\"\")\n",
    "    connection.commit()\n",
    "    connection.close()\n",
    "\n",
    "add_department_foreign_key()"
   ]
  },
  {
   "cell_type": "markdown",
   "id": "cfa0ffba",
   "metadata": {},
   "source": [
    "3. Write a Python function to insert data into both the `departments` and `employees` tables, ensuring referential integrity."
   ]
  },
  {
   "cell_type": "code",
   "execution_count": 35,
   "id": "bc818c6e",
   "metadata": {},
   "outputs": [
    {
     "name": "stdout",
     "output_type": "stream",
     "text": [
      "Department and employee inserted successfully.\n",
      "Department and employee inserted successfully.\n",
      "Department and employee inserted successfully.\n"
     ]
    }
   ],
   "source": [
    "def insert_department_and_employee(department_id, department_name, employee_id, name, age, department):\n",
    "    connection = sqlite3.connect(\"test.db\")\n",
    "    cursor = connection.cursor()\n",
    "    try:\n",
    "        cursor.execute(\"INSERT INTO departments (name) VALUES (?)\", (department_name,))\n",
    "        dept_id = cursor.lastrowid\n",
    "\n",
    "        cursor.execute(\"INSERT INTO employees (name, age, department, department_id) VALUES (?, ?, ?, ?)\",\n",
    "                       (name, age, department, department_id))\n",
    "\n",
    "        connection.commit()\n",
    "        print(\"Department and employee inserted successfully.\")\n",
    "\n",
    "    except Exception as e:\n",
    "        connection.rollback()\n",
    "        print(\"Error occurred, transaction rolled back.\")\n",
    "        print(e)\n",
    "    finally:\n",
    "        connection.close()\n",
    "        \n",
    "# Test the function\n",
    "insert_department_and_employee(1, 'HR', 10, 'Kate', 27, 'HR')\n",
    "insert_department_and_employee(2, 'Engineering', 11, 'Leo', 32, 'Engineering')\n",
    "insert_department_and_employee(3, 'Sales', 12, 'Mia', 26, 'Sales')\n"
   ]
  },
  {
   "cell_type": "markdown",
   "id": "9bb20e28",
   "metadata": {},
   "source": [
    "### Assignment 9: Indexing and Optimization\n",
    "\n",
    "1. Create an index on the `name` column of the `employees` table."
   ]
  },
  {
   "cell_type": "code",
   "execution_count": 36,
   "id": "8ad3408f",
   "metadata": {},
   "outputs": [
    {
     "name": "stdout",
     "output_type": "stream",
     "text": [
      "Index on 'name' column created successfully.\n"
     ]
    }
   ],
   "source": [
    "def create_index_on_name():\n",
    "    connection = sqlite3.connect('test.db')\n",
    "    cursor = connection.cursor()\n",
    "    cursor.execute('CREATE INDEX idx_name ON employees(name)')\n",
    "    connection.commit()\n",
    "    connection.close()\n",
    "    print(\"Index on 'name' column created successfully.\")\n",
    "\n",
    "# Test the function\n",
    "create_index_on_name()"
   ]
  },
  {
   "cell_type": "markdown",
   "id": "47c1ca4b",
   "metadata": {},
   "source": [
    "2. Write a Python function to fetch and display all employees whose names start with a specific letter. Compare the performance with and without the index."
   ]
  },
  {
   "cell_type": "code",
   "execution_count": 40,
   "id": "d3a9c784",
   "metadata": {},
   "outputs": [
    {
     "name": "stdout",
     "output_type": "stream",
     "text": [
      "Time taken: 0.0002167224884033203 seconds\n",
      "Records fetched:\n",
      "(3, 'Mia', 26, 3, 'Sales')\n"
     ]
    }
   ],
   "source": [
    "import time\n",
    "\n",
    "def fetch_employees_name_starts_with_performance(letter):\n",
    "    connection = sqlite3.connect('test.db')\n",
    "    cursor = connection.cursor()\n",
    "    start_time = time.time()\n",
    "    cursor.execute('''SELECT * FROM employees \n",
    "                   WHERE name LIKE ?''', (letter + '%',))\n",
    "    records = cursor.fetchall()\n",
    "    end_time = time.time()\n",
    "    connection.close()\n",
    "    print(\"Time taken: {} seconds\".format(end_time - start_time))\n",
    "    print(\"Records fetched:\")\n",
    "    for record in records:\n",
    "        print(record)\n",
    "\n",
    "# Test the function with the index\n",
    "fetch_employees_name_starts_with_performance('M')"
   ]
  },
  {
   "cell_type": "markdown",
   "id": "89bdd762",
   "metadata": {},
   "source": [
    "### Assignment 10: Backing Up and Restoring Data\n",
    "\n",
    "1. Write a Python function to back up the `test.db` database to a file named `backup.db`."
   ]
  },
  {
   "cell_type": "code",
   "execution_count": 41,
   "id": "2ebba51c",
   "metadata": {},
   "outputs": [
    {
     "name": "stdout",
     "output_type": "stream",
     "text": [
      "Database backed up successfully.\n"
     ]
    }
   ],
   "source": [
    "import shutil\n",
    "\n",
    "def backup_database():\n",
    "    shutil.copy('test.db', 'backup.db')\n",
    "    print(\"Database backed up successfully.\")\n",
    "\n",
    "# Test the function\n",
    "backup_database()"
   ]
  },
  {
   "cell_type": "markdown",
   "id": "6c3a6484",
   "metadata": {},
   "source": [
    "2. Write a Python function to restore the `test.db` database from the `backup.db` file."
   ]
  },
  {
   "cell_type": "code",
   "execution_count": 42,
   "id": "2857d58d",
   "metadata": {},
   "outputs": [
    {
     "name": "stdout",
     "output_type": "stream",
     "text": [
      "Database restored successfully.\n"
     ]
    }
   ],
   "source": [
    "def restore_database():\n",
    "    shutil.copy('backup.db', 'test.db')\n",
    "    print(\"Database restored successfully.\")\n",
    "\n",
    "# Test the function\n",
    "restore_database()"
   ]
  },
  {
   "cell_type": "code",
   "execution_count": null,
   "id": "bbc85a6a",
   "metadata": {},
   "outputs": [],
   "source": []
  }
 ],
 "metadata": {
  "kernelspec": {
   "display_name": "ds312",
   "language": "python",
   "name": "python3"
  },
  "language_info": {
   "codemirror_mode": {
    "name": "ipython",
    "version": 3
   },
   "file_extension": ".py",
   "mimetype": "text/x-python",
   "name": "python",
   "nbconvert_exporter": "python",
   "pygments_lexer": "ipython3",
   "version": "3.12.11"
  }
 },
 "nbformat": 4,
 "nbformat_minor": 5
}
