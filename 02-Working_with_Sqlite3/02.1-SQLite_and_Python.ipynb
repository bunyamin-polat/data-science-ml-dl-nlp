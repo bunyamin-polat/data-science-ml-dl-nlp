{
 "cells": [
  {
   "cell_type": "markdown",
   "id": "35cef7fd",
   "metadata": {},
   "source": [
    "# SQL and SQLite\n",
    "SQL (Structured Query Language) is a standard programming language specifically designed for managing and manipulating relational databases. \n",
    "\n",
    "SQLite is a popular, lightweight, serverless database engine that uses SQL as its query language."
   ]
  },
  {
   "cell_type": "code",
   "execution_count": 1,
   "id": "a0d47e65",
   "metadata": {},
   "outputs": [],
   "source": [
    "import sqlite3"
   ]
  },
  {
   "cell_type": "code",
   "execution_count": null,
   "id": "b90db996",
   "metadata": {},
   "outputs": [
    {
     "data": {
      "text/plain": [
       "<sqlite3.Connection at 0x105439a80>"
      ]
     },
     "execution_count": 2,
     "metadata": {},
     "output_type": "execute_result"
    }
   ],
   "source": [
    "## Create a connection to the SQLite database (or create it if it doesn't exist)\n",
    "\n",
    "connection = sqlite3.connect('example.db')\n",
    "connection"
   ]
  },
  {
   "cell_type": "code",
   "execution_count": 3,
   "id": "21cef157",
   "metadata": {},
   "outputs": [],
   "source": [
    "# Create a cursor object to interact with the database\n",
    "\n",
    "cursor = connection.cursor()"
   ]
  },
  {
   "cell_type": "code",
   "execution_count": 4,
   "id": "52ad99ed",
   "metadata": {},
   "outputs": [],
   "source": [
    "# Create a table named 'users' with columns for id, name, age, and department\n",
    "\n",
    "cursor.execute('''CREATE TABLE IF NOT EXISTS users(\n",
    "                id INTEGER PRIMARY KEY, \n",
    "                name TEXT, \n",
    "                age INTEGER,\n",
    "                department TEXT\n",
    "                )\n",
    "''')\n",
    "\n",
    "connection.commit() # Commit the changes"
   ]
  },
  {
   "cell_type": "code",
   "execution_count": 5,
   "id": "47aae076",
   "metadata": {},
   "outputs": [
    {
     "data": {
      "text/plain": [
       "<sqlite3.Cursor at 0x1056546c0>"
      ]
     },
     "execution_count": 5,
     "metadata": {},
     "output_type": "execute_result"
    }
   ],
   "source": [
    "cursor.execute('''SELECT * FROM users''')"
   ]
  },
  {
   "cell_type": "code",
   "execution_count": 6,
   "id": "28a9ad5c",
   "metadata": {},
   "outputs": [],
   "source": [
    "# Insert sample data into the 'users' table\n",
    "cursor.execute('''INSERT INTO users (name, age, department) VALUES\n",
    "               ('Alice', 30, 'HR'),\n",
    "               ('Bob', 25, 'Engineering'),\n",
    "               ('Charlie', 35, 'Sales')\n",
    "               ''')\n",
    "\n",
    "connection.commit() # Commit the changes"
   ]
  },
  {
   "cell_type": "code",
   "execution_count": 7,
   "id": "94f024ec",
   "metadata": {},
   "outputs": [
    {
     "name": "stdout",
     "output_type": "stream",
     "text": [
      "(1, 'Alice', 30, 'HR')\n",
      "(2, 'Bob', 25, 'Engineering')\n",
      "(3, 'Charlie', 35, 'Sales')\n"
     ]
    }
   ],
   "source": [
    "cursor.execute('''SELECT * FROM users''')\n",
    "rows = cursor.fetchall()\n",
    "for row in rows:\n",
    "    print(row)"
   ]
  },
  {
   "cell_type": "code",
   "execution_count": 8,
   "id": "581e9e39",
   "metadata": {},
   "outputs": [],
   "source": [
    "# Update the data in the table\n",
    "cursor.execute('''UPDATE users \n",
    "                  SET age = age + 10 \n",
    "                  WHERE name = 'Alice'\n",
    "                ''')\n",
    "\n",
    "connection.commit() # Commit the changes"
   ]
  },
  {
   "cell_type": "code",
   "execution_count": 9,
   "id": "eb7c1e4f",
   "metadata": {},
   "outputs": [
    {
     "name": "stdout",
     "output_type": "stream",
     "text": [
      "(1, 'Alice', 40, 'HR')\n",
      "(2, 'Bob', 25, 'Engineering')\n",
      "(3, 'Charlie', 35, 'Sales')\n"
     ]
    }
   ],
   "source": [
    "cursor.execute('''SELECT * FROM users''')\n",
    "rows = cursor.fetchall()\n",
    "for row in rows:\n",
    "    print(row)"
   ]
  },
  {
   "cell_type": "code",
   "execution_count": 10,
   "id": "9f0f08fc",
   "metadata": {},
   "outputs": [],
   "source": [
    "# Delete a record from the table\n",
    "cursor.execute('''DELETE FROM users \n",
    "                  WHERE name = 'Bob'\n",
    "                ''')\n",
    "connection.commit() # Commit the changes"
   ]
  },
  {
   "cell_type": "code",
   "execution_count": 11,
   "id": "65062390",
   "metadata": {},
   "outputs": [
    {
     "name": "stdout",
     "output_type": "stream",
     "text": [
      "(1, 'Alice', 40, 'HR')\n",
      "(3, 'Charlie', 35, 'Sales')\n"
     ]
    }
   ],
   "source": [
    "cursor.execute('''SELECT * FROM users''')\n",
    "rows = cursor.fetchall()\n",
    "for row in rows:\n",
    "    print(row)"
   ]
  },
  {
   "cell_type": "code",
   "execution_count": 12,
   "id": "b0b6266f",
   "metadata": {},
   "outputs": [],
   "source": [
    "# Working with Sales Data\n",
    "\n",
    "connection = sqlite3.connect('sales_data.db')\n",
    "cursor = connection.cursor()\n",
    "\n",
    "# Create a table named 'sales' with columns for id, date, product, sales, and region\n",
    "cursor.execute('''\n",
    "    CREATE TABLE IF NOT EXISTS sales (\n",
    "        id INTEGER PRIMARY KEY,\n",
    "        date TEXT NOT NULL,\n",
    "        product TEXT NOT NULL,\n",
    "        sales INTEGER NOT NULL,\n",
    "        region TEXT NOT NULL\n",
    "    )\n",
    "''')\n",
    "\n",
    "# Insert sample sales data into the 'sales' table\n",
    "\n",
    "sales_data = [\n",
    "    ('2023-01-01', 'Product A', 100, 'North'),\n",
    "    ('2023-01-02', 'Product B', 150, 'South'),\n",
    "    ('2023-01-03', 'Product A', 200, 'East'),\n",
    "    ('2023-01-04', 'Product C', 250, 'West'),\n",
    "    ('2023-01-05', 'Product B', 300, 'North')\n",
    "]\n",
    "\n",
    "cursor.executemany('''INSERT INTO sales (date, product, sales, region) \n",
    "                      VALUES (?, ?, ?, ?)''', \n",
    "                      sales_data)\n",
    "\n",
    "\n",
    "connection.commit() # Commit the changes"
   ]
  },
  {
   "cell_type": "code",
   "execution_count": 13,
   "id": "164c1edd",
   "metadata": {},
   "outputs": [
    {
     "name": "stdout",
     "output_type": "stream",
     "text": [
      "(1, '2023-01-01', 'Product A', 100, 'North')\n",
      "(2, '2023-01-02', 'Product B', 150, 'South')\n",
      "(3, '2023-01-03', 'Product A', 200, 'East')\n",
      "(4, '2023-01-04', 'Product C', 250, 'West')\n",
      "(5, '2023-01-05', 'Product B', 300, 'North')\n"
     ]
    }
   ],
   "source": [
    "cursor.execute('''SELECT * FROM sales''')\n",
    "rows = cursor.fetchall()\n",
    "for row in rows:\n",
    "    print(row)"
   ]
  },
  {
   "cell_type": "code",
   "execution_count": 14,
   "id": "04b20ac8",
   "metadata": {},
   "outputs": [],
   "source": [
    "# Close the connection\n",
    "connection.close()"
   ]
  },
  {
   "cell_type": "code",
   "execution_count": 16,
   "id": "48695166",
   "metadata": {},
   "outputs": [
    {
     "ename": "ProgrammingError",
     "evalue": "Cannot operate on a closed database.",
     "output_type": "error",
     "traceback": [
      "\u001b[31m---------------------------------------------------------------------------\u001b[39m",
      "\u001b[31mProgrammingError\u001b[39m                          Traceback (most recent call last)",
      "\u001b[36mCell\u001b[39m\u001b[36m \u001b[39m\u001b[32mIn[16]\u001b[39m\u001b[32m, line 1\u001b[39m\n\u001b[32m----> \u001b[39m\u001b[32m1\u001b[39m \u001b[43mcursor\u001b[49m\u001b[43m.\u001b[49m\u001b[43mexecute\u001b[49m\u001b[43m(\u001b[49m\u001b[33;43m'''\u001b[39;49m\u001b[33;43mSELECT * FROM sales\u001b[39;49m\u001b[33;43m'''\u001b[39;49m\u001b[43m)\u001b[49m \n\u001b[32m      2\u001b[39m rows = cursor.fetchall()\n\u001b[32m      3\u001b[39m \u001b[38;5;28;01mfor\u001b[39;00m row \u001b[38;5;129;01min\u001b[39;00m rows:\n",
      "\u001b[31mProgrammingError\u001b[39m: Cannot operate on a closed database."
     ]
    }
   ],
   "source": [
    "cursor.execute('''SELECT * FROM sales''') \n",
    "rows = cursor.fetchall()\n",
    "for row in rows:\n",
    "    print(row)\n",
    "\n",
    "\n",
    "# Cannot operate on a closed database."
   ]
  },
  {
   "cell_type": "code",
   "execution_count": null,
   "id": "a5ec3618",
   "metadata": {},
   "outputs": [],
   "source": []
  }
 ],
 "metadata": {
  "kernelspec": {
   "display_name": "ds312",
   "language": "python",
   "name": "python3"
  },
  "language_info": {
   "codemirror_mode": {
    "name": "ipython",
    "version": 3
   },
   "file_extension": ".py",
   "mimetype": "text/x-python",
   "name": "python",
   "nbconvert_exporter": "python",
   "pygments_lexer": "ipython3",
   "version": "3.12.11"
  }
 },
 "nbformat": 4,
 "nbformat_minor": 5
}
